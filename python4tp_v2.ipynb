{
 "cells": [
  {
   "cell_type": "markdown",
   "metadata": {
    "id": "dHyLVoJQr6sN"
   },
   "source": [
    "# Python en TP de Physique-Chimie  <a id=\"toc\"></a>\n",
    "\n",
    "## Table des matières\n",
    "\n",
    "Le but de ce notebook est de vous rappeler toutes les possibilités intéressantes que vous offre Python en TP de Physique-Chimie.\n",
    "\n",
    "\n",
    "### Travailler avec des données issues de mesures\n",
    "* [1. Importer des données depuis un tableur](#1.-Importer-des-données-depuis-un-tableur)\n",
    "* [2.  Tracer une courbe avec les incertitudes](#2.-Tracer-une-courbe-avec-les-incertitudes)\n",
    "* [3. Réaliser une modélisation via Python](#3.-Réaliser-une-modélisation-via-Python)\n",
    "* [5. Evaluer l'incertitude-type sur un paramètre inconnu avec Monte-Carlo](#5.-Evaluer-l'incertitude-type-sur-un-paramètre-inconnu-avec-Monte-Carlo)\n",
    "* A venir : tracer le spectre d'un signal\n",
    "\n",
    "### Propager des incertitudes\n",
    "* [4. Propager les incertitudes avec Monte-Carlo](#4.-Propager-les-incertitudes-avec-Monte-Carlo)\n",
    "\n",
    "### Réaliser aisément de calculs mathématiques utiles\n",
    "* A venir : Rechercher le zéro d'une fonction\n",
    "* [7. Résoudre une équation différentielle](#7.-Résoudre-une-équation-différentielle)\n",
    "\n"
   ]
  },
  {
   "cell_type": "markdown",
   "metadata": {
    "id": "wvzgane_Ebu-"
   },
   "source": [
    "## 1. Importer des données depuis un tableur \n",
    "[Retour à la table des matières](#toc)\n",
    "\n",
    "\n",
    "Vous avez réalisé un jeu de mesures sur un tableur et avez obtenu un fichier type \".xls\" ou \".xlsx\" à l'aide d'Excel ou Libre Office. \n",
    "\n",
    "**Comment l'importer rapidement sur Python ?**\n",
    "\n",
    "\n",
    "Nous allons pour cela utiliser les modules :\n",
    "*   ```pandas``` et ```xlrd```pour l'import des données depuis le tableur\n",
    "*  ```matplotlib.pyplot``` pour les tracés\n",
    "* ```numpy```pour le traitement des tableaux\n",
    "\n",
    "\n",
    "\n",
    "\n",
    "\n"
   ]
  },
  {
   "cell_type": "code",
   "execution_count": 1,
   "metadata": {
    "executionInfo": {
     "elapsed": 531,
     "status": "ok",
     "timestamp": 1618286532053,
     "user": {
      "displayName": "Simon Laurette",
      "photoUrl": "",
      "userId": "09647193347114285815"
     },
     "user_tz": -120
    },
    "id": "Fw3qhMTPK80S"
   },
   "outputs": [],
   "source": [
    "import pandas as pd\n",
    "import numpy as np\n",
    "import matplotlib.pyplot as plt\n",
    "import xlrd\n",
    "%matplotlib inline"
   ]
  },
  {
   "cell_type": "markdown",
   "metadata": {
    "id": "qQvdp5ykLE5P"
   },
   "source": [
    "Dans un premier temps, on récupère les données qui sont dans le tableur. Une bonne pratique est que chaque grandeur corresponde à une colonne du tableur, et que la première ligne corresponde au nom de la grandeur et à son unité. Par exemple, dans notre fichier ```determinationg.xls```, les trois premières lignes sont :\n",
    "\n",
    " | $$\\Delta t  \\mbox{  (s)  }$$ |  $$u(\\Delta t)  \\mbox{  (s)  }$$  | $$h  \\mbox{  (m)  }$$ | $$u(h)  \\mbox{  (m)  }$$ |\n",
    " | ---------------|------------------------|-----------------|--------------- |\n",
    " |0,25|0,05|0,5|0,02|\n",
    " |0,42|0,05|0,75|0,02|\n",
    "\n",
    "\n",
    "On va importer les données du tableur dans Python sous la forme d'un ```DataFrame```, appelé ```mesdonnees``` ci-dessous, à l'aide de la fonction ```read_excel```:\n"
   ]
  },
  {
   "cell_type": "code",
   "execution_count": 2,
   "metadata": {
    "executionInfo": {
     "elapsed": 835,
     "status": "ok",
     "timestamp": 1618286611137,
     "user": {
      "displayName": "Simon Laurette",
      "photoUrl": "",
      "userId": "09647193347114285815"
     },
     "user_tz": -120
    },
    "id": "AdalWMfAQLWu"
   },
   "outputs": [],
   "source": [
    "mesdonnees = pd.read_excel(\"determinationg.xls\")\n",
    "# si le chemin relatif ne fonctionne pas, vous pouvez indiquer le chemin absolu\n",
    "# avec des // comme \"C://Users//etc//monfichier.xlsx"
   ]
  },
  {
   "cell_type": "markdown",
   "metadata": {
    "id": "KT8qt2RmQmj1"
   },
   "source": [
    "Il ne reste plus désormais qu'à récupérer chaque colonne du tableur sous forme d'un tableau ```numpy``` à l'aide de la méthode ```values``` suivante :"
   ]
  },
  {
   "cell_type": "code",
   "execution_count": 3,
   "metadata": {
    "executionInfo": {
     "elapsed": 582,
     "status": "ok",
     "timestamp": 1618286615537,
     "user": {
      "displayName": "Simon Laurette",
      "photoUrl": "",
      "userId": "09647193347114285815"
     },
     "user_tz": -120
    },
    "id": "aVMjKhiaRFCE"
   },
   "outputs": [],
   "source": [
    "deltat=mesdonnees.values[:,0] \n",
    "# les : indiquent que l'on prend toutes les lignes, \n",
    "# le deuxième argument indique la colonne, la première étant repérée par 0\n",
    "u_deltat=mesdonnees.values[:,1]\n",
    "h=mesdonnees.values[:,2]\n",
    "u_h=mesdonnees.values[:,3]"
   ]
  },
  {
   "cell_type": "markdown",
   "metadata": {
    "id": "GJ1ASPs3Rql1"
   },
   "source": [
    "On peut vérifier que l'on a bien récupéré ce que l'on voulait :"
   ]
  },
  {
   "cell_type": "code",
   "execution_count": 4,
   "metadata": {
    "colab": {
     "base_uri": "https://localhost:8080/"
    },
    "executionInfo": {
     "elapsed": 633,
     "status": "ok",
     "timestamp": 1618286617192,
     "user": {
      "displayName": "Simon Laurette",
      "photoUrl": "",
      "userId": "09647193347114285815"
     },
     "user_tz": -120
    },
    "id": "9wtUZXegRvMH",
    "outputId": "56a447b9-1f4c-4d6d-a382-8df29d64bed1"
   },
   "outputs": [
    {
     "data": {
      "text/plain": [
       "array([0.25, 0.42, 0.5 , 0.53, 0.53, 0.58, 0.72, 0.6 , 0.8 , 0.7 , 0.7 ])"
      ]
     },
     "execution_count": 4,
     "metadata": {},
     "output_type": "execute_result"
    }
   ],
   "source": [
    "deltat"
   ]
  },
  {
   "cell_type": "code",
   "execution_count": 5,
   "metadata": {
    "colab": {
     "base_uri": "https://localhost:8080/"
    },
    "executionInfo": {
     "elapsed": 414,
     "status": "ok",
     "timestamp": 1618286618153,
     "user": {
      "displayName": "Simon Laurette",
      "photoUrl": "",
      "userId": "09647193347114285815"
     },
     "user_tz": -120
    },
    "id": "odNtPCp6Rz38",
    "outputId": "4539894a-6d63-4506-e3b5-15098e38ee64"
   },
   "outputs": [
    {
     "data": {
      "text/plain": [
       "array([0.05, 0.05, 0.05, 0.05, 0.05, 0.05, 0.05, 0.05, 0.05, 0.05, 0.05])"
      ]
     },
     "execution_count": 5,
     "metadata": {},
     "output_type": "execute_result"
    }
   ],
   "source": [
    "u_deltat"
   ]
  },
  {
   "cell_type": "code",
   "execution_count": 6,
   "metadata": {
    "colab": {
     "base_uri": "https://localhost:8080/"
    },
    "executionInfo": {
     "elapsed": 940,
     "status": "ok",
     "timestamp": 1618286620363,
     "user": {
      "displayName": "Simon Laurette",
      "photoUrl": "",
      "userId": "09647193347114285815"
     },
     "user_tz": -120
    },
    "id": "Z5iaQrNER2el",
    "outputId": "c7e63c5f-35e4-4cf7-bc7c-3b5de1291f84"
   },
   "outputs": [
    {
     "data": {
      "text/plain": [
       "array([0.5 , 0.75, 1.  , 1.25, 1.5 , 1.75, 2.  , 2.25, 2.5 , 2.75, 3.  ])"
      ]
     },
     "execution_count": 6,
     "metadata": {},
     "output_type": "execute_result"
    }
   ],
   "source": [
    "h"
   ]
  },
  {
   "cell_type": "code",
   "execution_count": 7,
   "metadata": {
    "colab": {
     "base_uri": "https://localhost:8080/"
    },
    "executionInfo": {
     "elapsed": 906,
     "status": "ok",
     "timestamp": 1618286621437,
     "user": {
      "displayName": "Simon Laurette",
      "photoUrl": "",
      "userId": "09647193347114285815"
     },
     "user_tz": -120
    },
    "id": "-_QKLP9PR4ba",
    "outputId": "35c638ec-aa53-4610-848f-9065d9d73d05"
   },
   "outputs": [
    {
     "data": {
      "text/plain": [
       "array([0.02, 0.02, 0.02, 0.02, 0.02, 0.02, 0.02, 0.02, 0.02, 0.02, 0.02])"
      ]
     },
     "execution_count": 7,
     "metadata": {},
     "output_type": "execute_result"
    }
   ],
   "source": [
    "u_h"
   ]
  },
  {
   "cell_type": "markdown",
   "metadata": {
    "id": "3ckpqL5hSQB9"
   },
   "source": [
    "## 2. Tracer une courbe avec les incertitudes\n",
    "[Retour à la table des matières](#toc)\n",
    "\n",
    "On s'intéresse à la durée d'une chute libre en fonction de la hauteur du lâcher. On a réalisé des expériences et on dispose de 4 tableaux ```numpy``` depuis un tableur :\n",
    "\n",
    "\n",
    "*   ```h``` les hauteurs de lâché en m\n",
    "*  ```u_h``` les incertitudes type associées en m\n",
    "* ```deltat``` les durées de chute en s\n",
    "* ``` u_deltat``` les incertitudes type associées en s\n",
    "\n",
    "**Comment tracer de manière élégante $\\Delta t(h)$ en faisant apparaître les incertitudes type ?**\n",
    "\n",
    "Nous allons utiliser pour cela le module ```matplotlib.pyplot```.\n",
    "\n",
    "\n"
   ]
  },
  {
   "cell_type": "code",
   "execution_count": 9,
   "metadata": {
    "colab": {
     "base_uri": "https://localhost:8080/",
     "height": 295
    },
    "executionInfo": {
     "elapsed": 920,
     "status": "ok",
     "timestamp": 1618286624553,
     "user": {
      "displayName": "Simon Laurette",
      "photoUrl": "",
      "userId": "09647193347114285815"
     },
     "user_tz": -120
    },
    "id": "4QJx-XxcTzIK",
    "outputId": "ec6761c4-f15f-4321-e16e-4d237236112e"
   },
   "outputs": [
    {
     "data": {
      "application/vnd.jupyter.widget-view+json": {
       "model_id": "2964e19401c34acf8b9853e2389eccfb",
       "version_major": 2,
       "version_minor": 0
      },
      "text/plain": [
       "Canvas(toolbar=Toolbar(toolitems=[('Home', 'Reset original view', 'home', 'home'), ('Back', 'Back to previous …"
      ]
     },
     "metadata": {},
     "output_type": "display_data"
    }
   ],
   "source": [
    "import matplotlib.pyplot as plt\n",
    "%matplotlib ipympl\n",
    "\n",
    "\n",
    "plt.figure() #créeons une nouvelle figure\n",
    "plt.errorbar(h,deltat,xerr=u_h,yerr=u_deltat,fmt='.') #les incertitudes type sont placées dans les arguments xerr et yerr\n",
    "# fmt='.' permet de ne pas relier les points (chaque mesure est un point + barre d'incertitude)\n",
    "plt.grid(which='both') #on ajoute des grilles verticales et horizontales\n",
    "plt.xlabel(\"Hauteur de lâcher (m)\") #on nomme l'axe horizontal\n",
    "plt.ylabel(\"Temps de chute (s)\") #on nomme l'axe vertical\n",
    "plt.title(\"Chute libre : durée en fonction de la hauteur\") # titre (optionnel)\n",
    "plt.show()"
   ]
  },
  {
   "cell_type": "markdown",
   "metadata": {
    "id": "_zzU4F4xr6tC"
   },
   "source": [
    "<a id=\"modelisation\"></a>\n",
    "## 3. Réaliser une modélisation via Python  \n",
    "\n",
    "[Retour à la table des matières](#toc)\n",
    "\n",
    "On s'intéresse à la durée d'une chute libre en fonction de la hauteur du lâcher. On a réalisé des expériences et on dispose de 4 tableaux ```numpy``` depuis un tableur :\n",
    "\n",
    "\n",
    "*   ```h``` les hauteurs de lâché en m\n",
    "*  ```u_h``` les incertitudes type associées en m\n",
    "* ```deltat``` les durées de chute en s\n",
    "*``` u_deltat``` les incertitudes type associées en s\n",
    "\n",
    "Dans la partie précédente, on a fait le tracé de $\\Delta t$ en fonction de h. On sait que l'expression théorique associée est : $$\\Delta t = \\sqrt{\\frac{2h}{g}}$$ \n",
    "où $g$ est le champ de pesanteur.\n",
    "\n",
    "On va demander à Python de faire de trouver la courbe dont l'équation est la précédente, et qui passe au mieux par les points de mesure. Il en déduira alors la valeur de $g$.\n",
    "\n",
    "Voici la démarche générale :"
   ]
  },
  {
   "cell_type": "raw",
   "metadata": {
    "id": "22mwRdQWr6tE",
    "raw_mimetype": "text/x-python"
   },
   "source": [
    "from scipy.optimize import curve_fit \n",
    " \n",
    "def f(x,a,b,c,d): # mettre la variable puis les paramètres à estimer en argument. \n",
    "    return a*x**3+b*x**2+c*x+d # mettre ici l'expression à approcher \n",
    " \n",
    "x = [...] # rentrer ici la liste des mesures de x \n",
    "y = [...] # rentrer ici la liste des mesures de y associées \n",
    " \n",
    "p_estimation,p_err=curve_fit(f, x, y)  #p_estimation est la liste des paramètres estimés \n",
    "p_type=np.sqrt(np.diag(p_err)) #p_type est la liste des incertitudes type sur l'estimation des paramètres \n",
    " \n",
    "## ne pas oublier de finir par un tracé superposant les points de mesure et la courbe théorique estimée pour valider \n",
    "## l'estimation. \n",
    " \n",
    "## si la modélisation ne converge pas, on peut « aider » curve_fit, en lui donnant une première estimation des \n",
    "## paramètres dans un argument p0=[aestime,bestime,cestime,destime] "
   ]
  },
  {
   "cell_type": "markdown",
   "metadata": {
    "id": "l0YY-hNOr6tF"
   },
   "source": [
    "Mettons la en application sur notre exemple :"
   ]
  },
  {
   "cell_type": "code",
   "execution_count": 10,
   "metadata": {
    "cellView": "code",
    "executionInfo": {
     "elapsed": 516,
     "status": "ok",
     "timestamp": 1618286702462,
     "user": {
      "displayName": "Simon Laurette",
      "photoUrl": "",
      "userId": "09647193347114285815"
     },
     "user_tz": -120
    },
    "id": "BXPYfPwcr6tH"
   },
   "outputs": [],
   "source": [
    "from scipy.optimize import curve_fit # c'est la fonction qui réalise l'ajustement\n",
    "from math import sqrt\n",
    "\n",
    "#tout d'abord on définit la fonction à modéliser\n",
    "\n",
    "def f(x,g):\n",
    "    return np.sqrt(2*x/g)\n",
    "\n",
    "x=h\n",
    "y=deltat\n",
    "\n",
    "p_estimation,p_err=curve_fit(f, x, y)  #p_estimation est la liste des paramètres estimés \n",
    "p_type=np.sqrt(np.diag(p_err)) #p_type est la liste des incertitudes type sur l'estimation des paramètres "
   ]
  },
  {
   "cell_type": "markdown",
   "metadata": {
    "id": "QV_ld9VBr6tI"
   },
   "source": [
    "Vérifions la valeur de g, ainsi que le tracé de la courbe modèle :"
   ]
  },
  {
   "cell_type": "code",
   "execution_count": 11,
   "metadata": {
    "colab": {
     "base_uri": "https://localhost:8080/",
     "height": 295
    },
    "executionInfo": {
     "elapsed": 835,
     "status": "ok",
     "timestamp": 1618286705175,
     "user": {
      "displayName": "Simon Laurette",
      "photoUrl": "",
      "userId": "09647193347114285815"
     },
     "user_tz": -120
    },
    "id": "7fbtoCH1r6tJ",
    "outputId": "a89c6530-fdfd-4607-cb82-ef02119a1ee9"
   },
   "outputs": [
    {
     "data": {
      "application/vnd.jupyter.widget-view+json": {
       "model_id": "f8f65fc965804a76993c3f43a03aadc4",
       "version_major": 2,
       "version_minor": 0
      },
      "text/plain": [
       "Canvas(toolbar=Toolbar(toolitems=[('Home', 'Reset original view', 'home', 'home'), ('Back', 'Back to previous …"
      ]
     },
     "metadata": {},
     "output_type": "display_data"
    }
   ],
   "source": [
    "g=p_estimation[0]\n",
    "u_g=p_type[0]\n",
    "\n",
    "#le tracé de nos mesures (cf chapitre précédent)\n",
    "plt.figure()\n",
    "plt.errorbar(h,deltat,xerr=u_h,yerr=u_deltat,fmt='.') \n",
    "plt.grid(which='both') #on ajoute des grilles verticales et horizontales\n",
    "plt.xlabel(\"Hauteur de lâché (m)\") #on nomme l'axe horizontal\n",
    "plt.ylabel(\"Temps de chute (s)\") #on nomme l'axe vertical\n",
    "plt.title(\"Chute libre : durée en fonction de la hauteur\") # titre (optionnel)\n",
    "\n",
    "#le tracé de la modélisation\n",
    "plt.plot(h,f(h,g))\n",
    "plt.text(0.5,0.8,\"g = \"+str(g)[0:4]+\" m/s²\")\n",
    "plt.text(0.5,0.75,\"u(g) = \"+str(u_g)[0:3]+\" m/s²\")\n",
    "\n",
    "plt.show()"
   ]
  },
  {
   "cell_type": "markdown",
   "metadata": {
    "id": "HYI9YwACr6tJ"
   },
   "source": [
    "Avant d'accepter les valeurs déterminées par la modélisation on vérifie :\n",
    "* que les points de mesure sont aléatoirement répartis autour de la courbe de modélisation : ok\n",
    "* que la courbe est toujours \"à proximité\" des points (pas plus de 2 écarts-types) : ok, même si tout juste\n",
    "\n",
    "Dans ce cas, on peut faire confiance au résultat :\n",
    "\n",
    "$$g=10.0 m.s^{-2}  ;  u(g)=0.6 m.s^{-2}$$\n",
    "\n",
    "(On ne garde qu'un seul chiffre significatif pour cette méthode de détermination de l'incertitude-type. Il faudrait une méthode de Monte Carlo pour en avoir deux, [présentée un peu plus loin](#mc2)).\n"
   ]
  },
  {
   "cell_type": "markdown",
   "metadata": {
    "id": "zviYljYFr6tK"
   },
   "source": [
    "## 4. Propager les incertitudes avec Monte-Carlo\n",
    "[Retour à la table des matières](#toc)\n",
    "\n",
    "On dispose :\n",
    "* d'une grandeur $x$ dont la valeur mesurée est $x_m$ associée à son incertitude-type $u(x)$ \n",
    "* d'une grandeur $y$ dont la valeur mesurée est $y_m$ associée à son incertitude-type $u(y)$.\n",
    "\n",
    "**On veut calculer une grandeur $z=f(x,y)$ et estimer l'incertitude-type sur cette grandeur par un algorithme de Monte-Carlo**.\n",
    "\n",
    "La démarche va se faire en trois temps :\n",
    "1. On va générer aléatoirement des tableaux de valeurs de $x$ et $y$, de distribution uniforme, et cohérentes avec les valeurs des incertitudes-type (c'est à dire que, pour $x$, les valeurs sont uniformément réparties dans l'intervalle $\\left[x-\\sqrt{3}\\times u(x) ; x+\\sqrt{3}\\times u(x)\\right]$). Ces listes sont appelées ```x``` et ```y``` dans la suite.\n",
    "2. Pour chaque couple ```x[i],y[i]```, on calcule la valeur ```z[i]=f(x[i],y[i])```\n",
    "3. L'incertitude-type sur $z$ est l'écart-type du tableau de valeurs de $z$ qui vient d'être calculé.\n"
   ]
  },
  {
   "cell_type": "code",
   "execution_count": 12,
   "metadata": {
    "colab": {
     "base_uri": "https://localhost:8080/",
     "height": 281
    },
    "executionInfo": {
     "elapsed": 1590,
     "status": "ok",
     "timestamp": 1618286711497,
     "user": {
      "displayName": "Simon Laurette",
      "photoUrl": "",
      "userId": "09647193347114285815"
     },
     "user_tz": -120
    },
    "id": "tMazODQJr6tL",
    "outputId": "055dcf27-d3ce-40dc-f2f4-731eb1fe0a59"
   },
   "outputs": [
    {
     "data": {
      "application/vnd.jupyter.widget-view+json": {
       "model_id": "2ed3a806c1944088b62318e0989ee1ea",
       "version_major": 2,
       "version_minor": 0
      },
      "text/plain": [
       "Canvas(toolbar=Toolbar(toolitems=[('Home', 'Reset original view', 'home', 'home'), ('Back', 'Back to previous …"
      ]
     },
     "metadata": {},
     "output_type": "display_data"
    }
   ],
   "source": [
    "import random as rd\n",
    "import numpy as np\n",
    "from math import sqrt\n",
    "import matplotlib.pyplot as plt\n",
    "\n",
    "def uniforme(m,u,N): # va renvoyer un tableau de N nombres aléatoire correspondant à une distribution uniforme \n",
    "# centrée sur m et d'incertitude-type u\n",
    "    x=[]\n",
    "    a=m-sqrt(3)*u\n",
    "    b=m+sqrt(3)*u\n",
    "    for i in range(N):\n",
    "        x.append(rd.uniform(a,b)) # la fonction rd.uniform renvoie un nombre aléatoire entre a et b (densité uniforme)\n",
    "    return np.array(x)\n",
    "\n",
    "## génération des tableaux x et y\n",
    "\n",
    "xm= 5.3 # on rentre ici les données issues de l'expérience (grandeur mesurée et incertitude-type)\n",
    "u_x=0.7\n",
    "\n",
    "ym= 2.1\n",
    "u_y=0.4\n",
    "\n",
    "x=uniforme(xm,u_x,10000)\n",
    "y=uniforme(ym,u_y,10000)\n",
    "\n",
    "## définition de la fonction f\n",
    "\n",
    "def f(x,y):\n",
    "    return 3*x**2*y\n",
    "\n",
    "## calcul de la liste des z\n",
    "\n",
    "z=f(x,y)\n",
    "\n",
    "## tracé des histogrammes et détermination de l'incertitude type sur z\n",
    "\n",
    "plt.figure()\n",
    "\n",
    "plt.subplot(311)\n",
    "plt.hist(x,bins=100)\n",
    "plt.title(\"Histogramme de x\")\n",
    "\n",
    "plt.subplot(312)\n",
    "plt.hist(y,bins=100)\n",
    "plt.title(\"Histogramme de y\")\n",
    "\n",
    "plt.subplot(313)\n",
    "plt.hist(z,bins=100)\n",
    "plt.title(\"Histogramme de z\")\n",
    "\n",
    "zm=np.mean(z)\n",
    "um=np.std(z)\n",
    "\n",
    "plt.text(250,150, \"zm = \"+str(zm)[0:3])\n",
    "plt.text(250,100, \"u(z) =\"+str(um)[0:3])\n",
    "\n",
    "plt.show()"
   ]
  },
  {
   "cell_type": "markdown",
   "metadata": {
    "id": "WTT2kQyOr6tM"
   },
   "source": [
    "<a id=mc2></a>\n",
    "## 5. Evaluer l'incertitude-type sur un paramètre inconnu avec Monte-Carlo\n",
    "[Retour à la table des matières](#toc)\n",
    "\n",
    "A l'issue d'une modélisation/ajustement d'une courbe avec ```curve_fit```, on peut obtenir la valeur d'un paramètre inconnu ($g$ dans l'exemple plus haut, [à relire absolument avant](#modelisation), associé à une incertitude-type $u(g)$. Cependant, nous ne savons pas comment est déterminée cette incertitude-type et on aimerait la déterminer nous-même pas un algorithme de type Monte-Carlo."
   ]
  },
  {
   "cell_type": "markdown",
   "metadata": {
    "id": "HhVxspl1r6tN"
   },
   "source": [
    "**Comment estimer  l’incertitude-type  sur  les  paramètres  d’une  fonction $f$  telle que $y=f(x)$ où $y$ et $x$ sont des grandeurs mesurées ?** \n",
    "\n",
    "On dispose : \n",
    "* d’un tableau ```lx``` des valeurs de $x$ mesurées, de longueur ```n```\n",
    "* d’un tableau ```lux``` des valeurs de $u(x)$ mesurées, de longueur ```n```\n",
    "* d’un tableau ```ly``` des valeurs de $y$ mesurées, de longueur ```n```\n",
    "* d’un tableau ```lux``` des valeurs de $u(y)$ mesurées, de longueur ```n```\n",
    "\n",
    "L'algorithe consiste en :\n",
    "\n",
    "**Faire $N$ fois :**\n",
    "* 1) Génération des tableaux simulés ```lx_simu``` et ```ly_simu``` avec une distribution aléatoire :\n",
    "$$\\forall i \\mbox{ lx_simu[i] est une valeur aléatoire tirée uniformément dans }$$\n",
    "$$\\left[lx[i]-\\sqrt{3}\\times lux[i];lx[i]+\\sqrt{3}\\times lux[i]\\right]$$ \n",
    "On fait de même pour le tableau des $y$.\n",
    "\n",
    "* 2) Estimation des paramètres inconnus à l'aide de ```curve_fit``` à partir de ```lx_simu``` et ```ly_simu```. C'est la procédure classique présentée dans le paragraphe \"Réaliser une modélisation sous Python\".\n",
    "\n",
    "* 3) Stockage des paramètres estimés dans une liste qui grandit à chaque itération.\n",
    "\n",
    "**Après les $N$ étapes :**  Observer l’histogramme du(des)  paramètre(s) estimé(s) et calculer l’écart-type associé qui donne l’incertitude type sur le paramètre. \n"
   ]
  },
  {
   "cell_type": "code",
   "execution_count": 13,
   "metadata": {
    "colab": {
     "base_uri": "https://localhost:8080/",
     "height": 281
    },
    "executionInfo": {
     "elapsed": 6101,
     "status": "ok",
     "timestamp": 1618286725186,
     "user": {
      "displayName": "Simon Laurette",
      "photoUrl": "",
      "userId": "09647193347114285815"
     },
     "user_tz": -120
    },
    "id": "zzfnb6Tmr6tO",
    "outputId": "f29516c8-8476-45d8-854e-10d5a95a84e3"
   },
   "outputs": [
    {
     "data": {
      "application/vnd.jupyter.widget-view+json": {
       "model_id": "9e1ccb6c476d4a86b2f94e9dd0acc09d",
       "version_major": 2,
       "version_minor": 0
      },
      "text/plain": [
       "Canvas(toolbar=Toolbar(toolitems=[('Home', 'Reset original view', 'home', 'home'), ('Back', 'Back to previous …"
      ]
     },
     "metadata": {},
     "output_type": "display_data"
    }
   ],
   "source": [
    "## on reprend la détermination de g commencée plus haut\n",
    "\n",
    "# on commence par ré-importer les données\n",
    "\n",
    "import pandas as pd\n",
    "import numpy as np\n",
    "import matplotlib.pyplot as plt\n",
    "from scipy.optimize import curve_fit # c'est la fonction qui réalise l'ajustement\n",
    "from math import sqrt\n",
    "import random as rd\n",
    "\n",
    "mesdonnees = pd.read_excel(\"determinationg.xls\")\n",
    "deltat=mesdonnees.values[:,0] \n",
    "u_deltat=mesdonnees.values[:,1]\n",
    "h=mesdonnees.values[:,2]\n",
    "u_h=mesdonnees.values[:,3]\n",
    "\n",
    "# on redéfinit la fonction de modélisation\n",
    "\n",
    "def f(x,g):\n",
    "    return np.sqrt(2*x/g)\n",
    "\n",
    "# on lance l'algorithme de Monte Carlo\n",
    "liste_g=[]\n",
    "N=10000\n",
    "deltat_simu=np.zeros((len(deltat)))\n",
    "h_simu=np.zeros((len(deltat)))\n",
    "for k in range(N):\n",
    "    # étape 1 : on génère les tableaux simulés\n",
    "    for i in range(len(deltat)):\n",
    "        deltat_simu[i]=rd.uniform(deltat[i]-sqrt(3)*u_deltat[i],deltat[i]+sqrt(3)*u_deltat[i])\n",
    "        h_simu[i]=rd.uniform(h[i]-sqrt(3)*u_h[i],h[i]+sqrt(3)*u_h[i])\n",
    "    # étape 2 : on estime les paramètres inconnus\n",
    "    x=h_simu\n",
    "    y=deltat_simu\n",
    "    p_estimation,p_err=curve_fit(f, x, y) \n",
    "    # étape 3 : on remplit la liste des g estimés\n",
    "    liste_g.append(p_estimation[0])\n",
    "\n",
    "gm=np.mean(np.array(liste_g))\n",
    "ug=np.std(np.array(liste_g))\n",
    "\n",
    "#tracés \n",
    "plt.figure()\n",
    "plt.title(\"Histogramme de g\")\n",
    "plt.hist(liste_g,bins=100)\n",
    "plt.text(11,250,\"g = \"+str(gm)[0:5]+\" m/s²\")\n",
    "plt.text(11,200,\"u(g) = \"+str(ug)[0:4]+\" m/s²\")       \n",
    "plt.show()"
   ]
  },
  {
   "cell_type": "markdown",
   "metadata": {
    "id": "t3VuaFAUr6tP"
   },
   "source": [
    "## 7. Résoudre une équation différentielle\n",
    "[Retour à la table des matières](#toc)\n",
    "\n",
    "La résolution d'équations différentielles peut se faire efficacement à l'aide de la fonction ```odeint``` du module ```scipy.integrate```. Pour l'utiliser, il faut écrire le problème à résoudre sous la forme :\n",
    "$$ \\frac{dY}{dt}=F(Y,t)$$\n",
    "$$Y(0)=Y_0$$\n",
    "\n",
    "Si cette résolution semble a priori être uniquement celle d'une équation d'ordre 1, elle permet en fait de résoudre une équation d'ordre $N$ : il suffit alors que $Y$ soit un vecteur à $N$ éléments. Nous l'étudierons dans les exemples.\n",
    "\n",
    "A chaque fois, il faudra donc: \n",
    "1. Mettre le problème sous la forme demandée et en déduire la fonction $F$\n",
    "2. Définir la fonction $F$ sous Python\n",
    "3. Utiliser ```y=odeint(F,y0,t,args=())``` où ```args``` correspond aux arguments de $F$ qui ne sont ni $Y$ ni $t$ (et correspondent à des paramètres du problème par exemple). ```t``` est le tableau ```numpy``` correspondant aux instants où l'on cherche $Y$.\n",
    "\n",
    "### 1er exemple simple (et inutile)\n",
    "\n",
    "On cherche à déterminer la tension $s$ aux bornes d'un condensateur lors de la charge d'un circuit $RC$, régi par l'équation différentielle :\n",
    "$$s+\\tau \\frac{ds}{dt}=E$$\n",
    "$$s(0)=0$$\n",
    "\n",
    "Le problème se met donc sous la forme :\n",
    "$$\\frac{ds}{dt}=\\frac{E-s}{\\tau}=F(s,t)$$\n",
    "$$s(0)=0$$\n",
    "\n",
    "Définissons $F$ :"
   ]
  },
  {
   "cell_type": "code",
   "execution_count": 14,
   "metadata": {
    "executionInfo": {
     "elapsed": 664,
     "status": "ok",
     "timestamp": 1618286735009,
     "user": {
      "displayName": "Simon Laurette",
      "photoUrl": "",
      "userId": "09647193347114285815"
     },
     "user_tz": -120
    },
    "id": "4OKijod6r6tP"
   },
   "outputs": [],
   "source": [
    "def F(s,t,E,tau): # on met les paramètres du problème (E,tau) en dernier\n",
    "    return (E-s)/tau\n"
   ]
  },
  {
   "cell_type": "markdown",
   "metadata": {
    "id": "HYUuS4msr6tQ"
   },
   "source": [
    "Exécutons la fonction ```odeint``` et traçons le résultat :"
   ]
  },
  {
   "cell_type": "code",
   "execution_count": 15,
   "metadata": {
    "colab": {
     "base_uri": "https://localhost:8080/",
     "height": 295
    },
    "executionInfo": {
     "elapsed": 673,
     "status": "ok",
     "timestamp": 1618286737545,
     "user": {
      "displayName": "Simon Laurette",
      "photoUrl": "",
      "userId": "09647193347114285815"
     },
     "user_tz": -120
    },
    "id": "PY-AuPxCr6tQ",
    "outputId": "bc65671b-c4a2-441a-9db5-d14f988c1340"
   },
   "outputs": [
    {
     "data": {
      "application/vnd.jupyter.widget-view+json": {
       "model_id": "19b1fc7996ef4e5e80ea063f3f111e92",
       "version_major": 2,
       "version_minor": 0
      },
      "text/plain": [
       "Canvas(toolbar=Toolbar(toolitems=[('Home', 'Reset original view', 'home', 'home'), ('Back', 'Back to previous …"
      ]
     },
     "metadata": {},
     "output_type": "display_data"
    }
   ],
   "source": [
    "from scipy.integrate import odeint\n",
    "from scipy.integrate import odepack\n",
    "import numpy as np\n",
    "import matplotlib.pyplot as plt\n",
    "\n",
    "s0=0\n",
    "tau=10e-3\n",
    "E=5\n",
    "t=np.linspace(0,10*tau,1000)\n",
    "\n",
    "y=odeint(F,s0,t,args=(E,tau))\n",
    "\n",
    "plt.figure()\n",
    "plt.plot(t,y)\n",
    "plt.xlabel(\"Temps en s\")\n",
    "plt.ylabel(\"Tension s en V\")\n",
    "plt.grid()\n",
    "plt.title(\"Charge d'un condensateur\")\n",
    "plt.show()"
   ]
  },
  {
   "cell_type": "markdown",
   "metadata": {
    "id": "rBP4gNqFr6tR"
   },
   "source": [
    "### 2ème exemple : équation non linéaire d'ordre 2 - le pendule simple\n",
    "\n",
    "On s'intéresse désormais à l'équation non linéaire d'ordre 2 modélisation les oscillations d'un pendule de longueur $l$, de masse $m$ et soumis à une force de frottement fluide de coefficient $h$ :\n",
    "$$\\frac{d^2 \\theta}{dt^2}+\\frac{h}{m} \\frac{d\\theta}{dt}+\\frac{g}{l}\\sin(\\theta)=0$$\n",
    "On poser les conditions initiales suivantes :\n",
    "$$\\theta(t=0)=\\theta_0$$\n",
    "$$\\frac{d\\theta}{dt}(t=0)=\\omega_0$$\n",
    "Pour se ramener au problème d'ordre 1 résolu par ```odeint```, on va poser le vecteur :\n",
    "$$Y= \\begin{bmatrix} \\theta \\\\ \\dot{\\theta}\\end{bmatrix}$$\n",
    "On déduit :\n",
    "$$\\dot{Y}= \\begin{bmatrix} \\dot{\\theta} \\\\ \\ddot{\\theta} \\end{bmatrix}=\\begin{bmatrix} \\dot{\\theta} \\\\ -\\frac{h}{m} \\dot{\\theta}-\\frac{g}{l}\\sin(\\theta) \\end{bmatrix} = F(Y,t)$$\n",
    "Définissons $F$ sous Python :"
   ]
  },
  {
   "cell_type": "code",
   "execution_count": 16,
   "metadata": {
    "executionInfo": {
     "elapsed": 470,
     "status": "ok",
     "timestamp": 1618286742685,
     "user": {
      "displayName": "Simon Laurette",
      "photoUrl": "",
      "userId": "09647193347114285815"
     },
     "user_tz": -120
    },
    "id": "-1SzUq7gr6tS"
   },
   "outputs": [],
   "source": [
    "def F(Y,t,h,m,g,l):\n",
    "    return Y[1],-h/m*Y[1]-g/l*sin(Y[0])"
   ]
  },
  {
   "cell_type": "markdown",
   "metadata": {
    "id": "RpFm8CjKr6tS"
   },
   "source": [
    "Résolvons ensuite l'équation :"
   ]
  },
  {
   "cell_type": "code",
   "execution_count": 19,
   "metadata": {
    "colab": {
     "base_uri": "https://localhost:8080/",
     "height": 295
    },
    "executionInfo": {
     "elapsed": 1237,
     "status": "ok",
     "timestamp": 1618286746391,
     "user": {
      "displayName": "Simon Laurette",
      "photoUrl": "",
      "userId": "09647193347114285815"
     },
     "user_tz": -120
    },
    "id": "ltUpTQMKr6tT",
    "outputId": "702c0476-f286-45e6-a06a-fd1dd2f171c7"
   },
   "outputs": [
    {
     "data": {
      "application/vnd.jupyter.widget-view+json": {
       "model_id": "3505527618774f9ba913db522d3381c3",
       "version_major": 2,
       "version_minor": 0
      },
      "text/plain": [
       "Canvas(toolbar=Toolbar(toolitems=[('Home', 'Reset original view', 'home', 'home'), ('Back', 'Back to previous …"
      ]
     },
     "metadata": {},
     "output_type": "display_data"
    }
   ],
   "source": [
    "from scipy.integrate import odeint\n",
    "import numpy as np\n",
    "import matplotlib.pyplot as plt\n",
    "from math import sin\n",
    "\n",
    "y0=[3.14/2,8]\n",
    "\n",
    "m=0.1\n",
    "l=1\n",
    "g=9.8\n",
    "h=0.02\n",
    "\n",
    "t=np.linspace(0,100,10000)\n",
    "\n",
    "y=odeint(F,y0,t,args=(h,m,g,l))\n",
    "\n",
    "# Tracés\n",
    "plt.figure()\n",
    "plt.subplot(211)\n",
    "plt.plot(t,y[:,0])\n",
    "plt.xlabel(\"t en s\")\n",
    "plt.ylabel(\"Angle theta en rad\")\n",
    "plt.title(\"Révolutions/Oscillations d'un pendule\")\n",
    "plt.grid()\n",
    "\n",
    "plt.subplot(212)\n",
    "plt.plot(y[:,0],y[:,1])\n",
    "plt.xlabel(\"theta en rad\")\n",
    "plt.ylabel(\"theta point en rad/s\")\n",
    "plt.title(\"Portrait de phase\")\n",
    "plt.grid()\n",
    "plt.show()"
   ]
  },
  {
   "cell_type": "markdown",
   "metadata": {
    "id": "YDWvLmGtr6tU"
   },
   "source": [
    "### 3ème exemple : l'oscillateur à Pont de Wien\n",
    "\n",
    "Dans le TP sur l'oscillateur quasi-sinusoïdal à Pont de Wien, on montre que la tension de sortie de l'amplificateur opérationnel $s$ était régie par le jeu d'équations suivant :\n",
    "* Si $|s| < V_{sat}$ :\n",
    "$$ s + \\frac{1-\\frac{K}{3}}{Q\\omega_0} \\dot{s} + \\frac{1}{\\omega_0^2}\\ddot{s} = 0$$\n",
    "* sinon :\n",
    "$$ s + \\frac{1}{Q\\omega_0} \\dot{s} + \\frac{1}{\\omega_0^2}\\ddot{s} = 0$$\n",
    "\n",
    "où :\n",
    "* $K$ est le coefficient de l'amplificateur utilisé\n",
    "* $Q$ et $\\omega_0$ sont respectivement le facteur de qualité et la pulsation caractéristique du filtre passe-bande de Wien.\n",
    "\n",
    "Voyons ci-dessous comment résoudre ce problème, en posant :\n",
    "$$Y= \\begin{bmatrix} s \\\\ \\dot{s}\\end{bmatrix}$$\n",
    "et \n",
    "$$\\dot{Y}=F(Y,t)$$"
   ]
  },
  {
   "cell_type": "code",
   "execution_count": 20,
   "metadata": {
    "colab": {
     "base_uri": "https://localhost:8080/",
     "height": 295
    },
    "executionInfo": {
     "elapsed": 988,
     "status": "ok",
     "timestamp": 1618286774194,
     "user": {
      "displayName": "Simon Laurette",
      "photoUrl": "",
      "userId": "09647193347114285815"
     },
     "user_tz": -120
    },
    "id": "DOo2M8F_r6tV",
    "outputId": "21ccb47b-a2c8-4ccf-82d7-7bec3f4fa7e8"
   },
   "outputs": [
    {
     "data": {
      "application/vnd.jupyter.widget-view+json": {
       "model_id": "0ce82d6d76374cffb4edad4947f04099",
       "version_major": 2,
       "version_minor": 0
      },
      "text/plain": [
       "Canvas(toolbar=Toolbar(toolitems=[('Home', 'Reset original view', 'home', 'home'), ('Back', 'Back to previous …"
      ]
     },
     "metadata": {},
     "output_type": "display_data"
    }
   ],
   "source": [
    "import numpy as np\n",
    "from scipy.integrate import odeint\n",
    "import matplotlib.pyplot as plt\n",
    "\n",
    "#définissons F\n",
    "\n",
    "def F(Y,t,Q,w0,K,Vsat):\n",
    "    if abs(Y[0])<Vsat:\n",
    "        d2y=-w0**2*Y[0]-w0/Q*(1-K/3)*Y[1]\n",
    "    else :\n",
    "        d2y=-w0**2*Y[0]-w0/Q*Y[1]\n",
    "    return Y[1],d2y\n",
    "\n",
    "#posons les constantes\n",
    "\n",
    "Q=1/3\n",
    "R=1e3\n",
    "C=1e-7\n",
    "w0=1/(R*C)\n",
    "Vsat=13\n",
    "\n",
    "K=3.3\n",
    "\n",
    "#résolvons\n",
    "\n",
    "t=np.linspace(0,30e-3,1000)\n",
    "Y0=[0.0001,0.0001]\n",
    "\n",
    "Y=odeint(F,Y0,t,args=(Q,w0,K,Vsat))\n",
    "\n",
    "#traçons\n",
    "\n",
    "plt.figure()\n",
    "plt.subplot(211)\n",
    "plt.plot(t,Y[:,0])\n",
    "plt.grid()\n",
    "plt.xlabel(\"Temps en s\")\n",
    "plt.ylabel (\"s en V\")\n",
    "plt.title(\"Démarrage d'un oscillateur à Pont de Wien\")\n",
    "\n",
    "plt.subplot(212)\n",
    "plt.plot(Y[:,0],Y[:,1])\n",
    "plt.grid()\n",
    "plt.xlabel(\"s en V\")\n",
    "plt.ylabel(\"ds/ds en V/s\")\n",
    "plt.title(\"Portrait de phase\")\n",
    "plt.show()\n"
   ]
  },
  {
   "cell_type": "code",
   "execution_count": null,
   "metadata": {
    "id": "CHvt3umQr6tV"
   },
   "outputs": [],
   "source": []
  }
 ],
 "metadata": {
  "celltoolbar": "Format de la Cellule Texte Brut",
  "colab": {
   "name": "python4tp.ipynb",
   "provenance": [],
   "toc_visible": true
  },
  "kernelspec": {
   "display_name": "Python 3",
   "language": "python",
   "name": "python3"
  },
  "language_info": {
   "codemirror_mode": {
    "name": "ipython",
    "version": 3
   },
   "file_extension": ".py",
   "mimetype": "text/x-python",
   "name": "python",
   "nbconvert_exporter": "python",
   "pygments_lexer": "ipython3",
   "version": "3.9.1"
  }
 },
 "nbformat": 4,
 "nbformat_minor": 2
}
