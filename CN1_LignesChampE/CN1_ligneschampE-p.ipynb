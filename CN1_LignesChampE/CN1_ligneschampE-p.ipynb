{
 "cells": [
  {
   "cell_type": "markdown",
   "metadata": {
    "toc": true
   },
   "source": [
    "<h1><span class=\"tocSkip\"></span></h1>\n",
    "<div class=\"toc\"><ul class=\"toc-item\"><li><span><a href=\"#Lignes-de-champ-électrostatique\" data-toc-modified-id=\"Lignes-de-champ-électrostatique-0\">Lignes de champ électrostatique</a></span><ul class=\"toc-item\"><li><span><a href=\"#Un-peu-de-théorie\" data-toc-modified-id=\"Un-peu-de-théorie-0.1\">Un peu de théorie</a></span></li><li><span><a href=\"#Calcul-du-potentiel-électrostatique\" data-toc-modified-id=\"Calcul-du-potentiel-électrostatique-0.2\">Calcul du potentiel électrostatique</a></span></li><li><span><a href=\"#Calcul-du-champ-électrostatique\" data-toc-modified-id=\"Calcul-du-champ-électrostatique-0.3\">Calcul du champ électrostatique</a></span></li></ul></li></ul></div>"
   ]
  },
  {
   "cell_type": "markdown",
   "metadata": {},
   "source": [
    "# Lignes de champ électrostatique\n",
    "\n",
    "\n",
    "> **L'objectif de ce TD est déterminer la carte de champ créée par une distribution de charges ponctuelles.**\n",
    ">\n",
    ">\n",
    "> *Vous devez :*\n",
    "> - rédiger les questions théoriques (T1, T2...) sur une copie que vous rendrez à votre enseignant.\n",
    "> - exécuter les cellules de code déjà écrites sur ce document, et compléter celles correspondant aux questions \"informatique\" (Q1, Q2...).\n",
    "> - enregistrer votre Notebook au format : *CN1_votrenom_votreprenom.ipynb* et le transmettre à votre enseignant via cahier-de-prepa.\n",
    "\n",
    "\n",
    "La résolution se fera en 2 étapes :\n",
    "* Calcul du potentiel électrique en tout point de l'espace.\n",
    "* Utilisation de la relation $\\vec{E}=- \\overrightarrow{\\mbox{grad}}(V)$ pour en déduire le champ électrique.\n",
    "\n",
    "## Un peu de théorie\n",
    "\n",
    "On se rappelle que le potentiel électrostatique créé par une charge ponctuelle $q$ en un point $M$ situé à une distance $r$ de la charge est :\n",
    "$$V_q(M)= \\frac{q}{4\\pi\\varepsilon_0 r}$$\n",
    "où $\\varepsilon_0$ est la permittivité diélectrique du vide.\n",
    "\n",
    "Si $N$ charges $q_i$ sont placées en différents points $O_i$ de l'espace, alors on peut calculer le potentiel en un point $M$ en appliquant le théorème de superposition :\n",
    "$$V(M) = \\sum_{i=1}^N \\frac{q_i}{4\\pi \\varepsilon_0 r_i}$$\n",
    "où $r_i=O_iM$ est la distance entre le point $M$ et la position de la charge $q_i$.\n",
    "\n",
    "## Calcul du potentiel électrostatique\n",
    "\n",
    "Travaillons en deux dimensions dans un domaine $\\mathcal{D}$ du plan de $100\\mu m \\times 100\\mu m$. En tout point de ce domaine, le potentiel est caractérisé par un tableau à 2 dimensions ```V``` de 100 lignes et 100 colonnes. Ainsi : ```V[i,j]``` sera le potentiel du point de la ```i```ème ligne et ```j```ème colonne et ```V[i,j+1]``` celui d'un point situé $1\\mu m$ à sa droite.\n",
    "\n",
    "**Question T1** :\n",
    "> Faire un schéma clair de la situation.\n",
    "\n",
    "On peut donc créer initialement le tableau ```V``` rempli de 0 pour le moment :"
   ]
  },
  {
   "cell_type": "code",
   "execution_count": null,
   "metadata": {},
   "outputs": [],
   "source": [
    "# Cellule à exécuter\n",
    "\n",
    "import numpy as np\n",
    "N=100\n",
    "V=np.zeros((N,N))"
   ]
  },
  {
   "cell_type": "markdown",
   "metadata": {},
   "source": [
    "Dans notre implémentation, une charge sera représentée par une liste de 3 éléments : ```charge=[valeur_charge, ligne, colonne]```. Le premier élément donnant la valeur de la charge en Coulombs et les deux suivants indiquant l'indice de la ligne et de la colonne où elle est placée.\n",
    "\n",
    "Puis la distribution de charges sera une liste des charges précédentes : ```distrib=[charge1,charge2...]```.\n",
    "\n",
    "On donne donc ci-dessous un exemple de distribution sur lequel nous allons travailler par la suite :"
   ]
  },
  {
   "cell_type": "code",
   "execution_count": null,
   "metadata": {},
   "outputs": [],
   "source": [
    "# Cellule à exécuter\n",
    "\n",
    "e=1.6e-19\n",
    "distrib=[[-e,40,40],[2*e,60,60],[-e,60,30]]"
   ]
  },
  {
   "cell_type": "markdown",
   "metadata": {},
   "source": [
    "**Question Q1**\n",
    ">\n",
    "> Ecrire une fonction ```visu(distrib)``` permettant de visualiser le domaine $\\mathcal{D}$ de l'espace et le placement des charges sous la forme d'une image (les charges peuvent apparaître comme un point coloré sur un fond uniforme). On pourra utiliser la fonction ```imshow``` du module ```matplotlib.pyplot```."
   ]
  },
  {
   "cell_type": "code",
   "execution_count": null,
   "metadata": {},
   "outputs": [],
   "source": [
    "# Cellule à compléter puis exécuter\n",
    "\n",
    "import matplotlib.pyplot as plt\n",
    "plt.clf()\n",
    "\n",
    "def visu(distrib):\n",
    "    #### A COMPLETER\n",
    "    ####\n",
    "    ####\n",
    "    ####\n",
    "    ####\n",
    "    ####\n",
    "    \n",
    "visu(distrib)\n",
    "plt.show()"
   ]
  },
  {
   "cell_type": "code",
   "execution_count": null,
   "metadata": {
    "scrolled": false
   },
   "outputs": [],
   "source": [
    "# Corrigé\n",
    "\n",
    "import matplotlib.pyplot as plt\n",
    "plt.clf()\n",
    "\n",
    "def visu(distrib):\n",
    "    tableau=np.copy(V)\n",
    "    for charge in distrib :\n",
    "        i,j=charge[1],charge[2]\n",
    "        tableau[i,j]=1 # la présence d'une charge est matérialisée par un 1 ici\n",
    "    plt.imshow(tableau)\n",
    "    plt.show()\n",
    "    \n",
    "visu(distrib)\n"
   ]
  },
  {
   "cell_type": "markdown",
   "metadata": {},
   "source": [
    "Pour tout point $M$ du domaine $\\mathcal{D}$, il est important de pouvoir calculer la distance entre le point $M$ et une certaine charge $q_i$ : cela nous permettra d'évaluer la distance $r_i$.\n",
    "\n",
    "**Question Q2**\n",
    ">\n",
    "> Ecrire une fonction ```distance(charge,i,j)``` prenant pour argument une liste ```charge``` et renvoyant sa distance à la case ```[i,j]```. La tester avec ```charge=[1,2,7]```, ```i=7```, ```j=7```. On doit trouver 5$\\mu m$."
   ]
  },
  {
   "cell_type": "code",
   "execution_count": null,
   "metadata": {},
   "outputs": [],
   "source": [
    "# Cellule à compléter puis exécuter\n",
    "\n",
    "from math import sqrt\n",
    "\n",
    "# Ecriture de la fonction\n",
    "\n",
    "def distance(charge,i,j):\n",
    "    ###\n",
    "    ###\n",
    "    ### A COMPLETER\n",
    "    ###\n",
    "    ###\n",
    "    return ri\n",
    "\n",
    "# Test de la fonction\n",
    "\n",
    "distance([1,2,7],7,7)"
   ]
  },
  {
   "cell_type": "code",
   "execution_count": null,
   "metadata": {},
   "outputs": [],
   "source": [
    "# Corrigé\n",
    "\n",
    "from math import sqrt\n",
    "\n",
    "def distance(charge,i,j):\n",
    "    icharge=charge[1]\n",
    "    jcharge=charge[2]\n",
    "    d_pix=sqrt((i-icharge)**2+(j-jcharge)**2)\n",
    "    ri=d_pix*1e-6\n",
    "    return ri\n",
    "\n",
    "distance([1,2,7],7,7)"
   ]
  },
  {
   "cell_type": "markdown",
   "metadata": {},
   "source": [
    "Nous allons désormais créer une fonction ```potentiel(charge,i,j)``` prenant pour argument une liste ```charge``` et renvoyant le potentiel électrostatique créé par la charge dans la case ```[i,j]``` au voisinage de la charge.\n",
    "\n",
    "**Question Q3**\n",
    ">\n",
    "> Ecrire cette fonction."
   ]
  },
  {
   "cell_type": "code",
   "execution_count": null,
   "metadata": {},
   "outputs": [],
   "source": [
    "### A COMPLETER\n",
    "\n",
    "\n"
   ]
  },
  {
   "cell_type": "code",
   "execution_count": null,
   "metadata": {},
   "outputs": [],
   "source": [
    "# Corrigé\n",
    "\n",
    "def potentiel(charge,i,j):\n",
    "    eps0=8.85e-12\n",
    "    pi=3.14\n",
    "    ri=distance(charge,i,j)\n",
    "    return charge[0]/(4*pi*ri*eps0)"
   ]
  },
  {
   "cell_type": "markdown",
   "metadata": {},
   "source": [
    "Nous allons bientôt pouvoir calculer le potentiel en tout point du domaine $\\mathcal{D}$... enfin pas exactement en tout point : on ne calcule pas le potentiel des points où se situent les charges. Récupérons rapidement donc les coordonnées des points où l'on ne va pas calculer le potentiel.\n",
    "\n",
    "**Question Q4**\n",
    ">\n",
    "> Ecrire la fonction ```position_charges```pour qu'elle retourne la liste des coordonnées des charges de la distribution passée en argument. La tester avec la distribution données plus haut.\n"
   ]
  },
  {
   "cell_type": "code",
   "execution_count": null,
   "metadata": {},
   "outputs": [],
   "source": [
    "# Ecriture de la fonction\n",
    "\n",
    "def position_charges(distrib):\n",
    "    ###\n",
    "    ###\n",
    "    ###\n",
    "    ###\n",
    "    ###\n",
    "    return coor_charges\n",
    "\n",
    "# Test de la fonction\n",
    "\n",
    "position_charges(distrib) "
   ]
  },
  {
   "cell_type": "code",
   "execution_count": null,
   "metadata": {},
   "outputs": [],
   "source": [
    "# Corrigé\n",
    "\n",
    "def position_charges(distrib):\n",
    "    coor_charges=[]\n",
    "    for charge in distrib :\n",
    "        i,j=charge[1],charge[2]\n",
    "        coor_charges.append([i,j])\n",
    "    return coor_charges\n",
    "    \n",
    "position_charges(distrib) "
   ]
  },
  {
   "cell_type": "markdown",
   "metadata": {},
   "source": [
    "**Question Q5**\n",
    ">\n",
    "> Compléter la fonction ```calcul_potentiel(distrib,V)``` qui calcule en tout point du tableau ```V``` (en dehors des points occupés par les charges) le potentiel créé par la distribution de charges ```distrib```. La fonction retourne le tableau ```V```complété. Afficher ensuite la carte de potentiel ainsi calculée et les équipotentielles à l'aide de la fonction ```contour``` du module ```plot```."
   ]
  },
  {
   "cell_type": "code",
   "execution_count": null,
   "metadata": {},
   "outputs": [],
   "source": [
    "# Fonction à compléter\n",
    "\n",
    "def calcul_potentiel(distrib,V):\n",
    "    positions_charges=position_charges(distrib)\n",
    "    N=100\n",
    "    for i in range(N):\n",
    "        for j in range(N):\n",
    "            if [i,j] not in positions_charges :  # on se place en dehors des points occupés par les charges\n",
    "                Vij=0\n",
    "                #### \n",
    "                #### A COMPLETER\n",
    "                ####\n",
    "                V[i,j]=Vij\n",
    "\n",
    "    return V\n",
    "\n",
    "V=calcul_potentiel(distrib,V)\n",
    "\n",
    "# Affichage\n",
    "plt.clf()\n",
    "plt.imshow(V, cmap=\"winter\")\n",
    "plt.contour(V,200, cmap=\"Oranges\")\n",
    "plt.show()"
   ]
  },
  {
   "cell_type": "code",
   "execution_count": null,
   "metadata": {},
   "outputs": [],
   "source": [
    "# Corrigé\n",
    "\n",
    "def calcul_potentiel(distrib,V):\n",
    "    positions_charges=position_charges(distrib)\n",
    "    N=100\n",
    "    for i in range(N):\n",
    "        for j in range(N):\n",
    "            if [i,j] not in positions_charges :  # on se place en dehors des points occupés par les charges\n",
    "                Vij=0\n",
    "                for charge in distrib :\n",
    "                    Vij+=potentiel(charge,i,j)\n",
    "                V[i,j]=Vij\n",
    "\n",
    "    return V\n",
    "\n",
    "V=calcul_potentiel(distrib,V)\n",
    "\n",
    "# Affichage\n",
    "plt.clf()\n",
    "plt.imshow(V, cmap=\"winter\")\n",
    "plt.contour(V,200, cmap=\"Oranges\")\n",
    "plt.show()"
   ]
  },
  {
   "cell_type": "markdown",
   "metadata": {},
   "source": [
    "## Calcul du champ électrostatique\n",
    "\n",
    "Maintenant que le potentiel est connu en tout point de l'espace, on va pouvoir calculer le champ électrostatique\n",
    "\n",
    "**Question T2** :\n",
    "> Rappeler la relation liant le champ électrique et le potentiel électrique en électrostatique. De quelle équation de Maxwell découle cette propriété ? En déduire l'expression des composantes $E_x$ et $E_y$ du champ électrique en fonction du potentiel $V$.\n",
    "\n",
    "> *Corrigé :*\n",
    ">\n",
    ">On applique la relation (uniquement valable en électro**statique**) :\n",
    ">$$\\vec{E}=-\\overrightarrow{\\mbox{grad}}(V)$$\n",
    ">\n",
    "> C'est l'équation de Maxwell-Faraday, en régime stationnaire, qui permet l'écriture de cette relation.\n",
    ">\n",
    ">Dans le plan, en notant $E_x$ et $E_y$ les composantes du champ électrique, cette relation se projette :\n",
    ">$$E_x=- \\frac{\\partial V}{\\partial x}$$\n",
    ">$$E_y=-\\frac{\\partial V}{\\partial y}$$\n",
    "\n",
    "Ces relations sont approximables par méthode d'Euler :\n",
    "$$E_x= - \\frac{V[i,j+1]-V[i,j]}{a}$$\n",
    "\n",
    "$$E_y = - \\frac{V[i+1,j]-V[i,j]}{a}$$\n",
    "\n",
    "où $a=1\\mu m$ est la distance entre deux cases adjacentes.\n",
    "\n",
    "> **Question Q6**\n",
    ">\n",
    "> Ecrire une fonction ```champE(V,i,j)``` qui détermine le champ électrique au point de coordonnées ```i,j``` du tableau de potentiel V. Cette fonction renvoie deux scalaires : ```Ex,Ey```. Au sein d'une fonction ```champE(V,distrib)```, appliquer la fonction précédente en tout point (hormis ceux de la dernière ligne et de la dernière colonne ; et ceux qui utiliseraient le potentiel à l'endroit d'une charge). La fonction ```champE``` doit renvoyer deux tableaux : celui des composante du champ électrique selon x et selon y, évaluées en tout point du domaine D."
   ]
  },
  {
   "cell_type": "code",
   "execution_count": null,
   "metadata": {},
   "outputs": [],
   "source": [
    "# Cellule à compléter\n",
    "\n",
    "def champE(V,i,j):\n",
    "    \n",
    "    ###\n",
    "    ### A COMPLETER\n",
    "    ###\n",
    "    \n",
    "    return Ex,Ey\n",
    "\n",
    "\n",
    "def calcul_champE(V,distrib):\n",
    "    N=100\n",
    "    Ex=np.zeros((N,N))\n",
    "    Ey=np.zeros((N,N))\n",
    "    \n",
    "    positions_charges=position_charges(distrib)\n",
    "    \n",
    "    ####\n",
    "    ####\n",
    "    #### A COMPLETER\n",
    "    ####\n",
    "    ####\n",
    "    \n",
    "    return Ex,Ey\n",
    "\n",
    "Ex,Ey=calcul_champE(V,distrib)"
   ]
  },
  {
   "cell_type": "code",
   "execution_count": null,
   "metadata": {},
   "outputs": [],
   "source": [
    "# Corrigé \n",
    "\n",
    "def champE(V,i,j):\n",
    "    a=1e-6\n",
    "    Ex=(V[i,j]-V[i,j+1])/a\n",
    "    Ey=(V[i,j]-V[i+1,j])/a\n",
    "    return Ex,Ey\n",
    "\n",
    "def calcul_champE(V,distrib):\n",
    "    N=100\n",
    "    Ex=np.zeros((N,N))\n",
    "    Ey=np.zeros((N,N))\n",
    "    \n",
    "    positions_charges=position_charges(distrib)\n",
    "    \n",
    "    for i in range(N-1):\n",
    "        for j in range(N-1):\n",
    "            if ([i,j] not in positions_charges) and ([i,j+1] not in positions_charges) and ([i+1,j] not in positions_charges):\n",
    "                Ex[i,j],Ey[i,j]=champE(V,i,j)\n",
    "    return Ex,Ey\n",
    "\n",
    "Ex,Ey=calcul_champE(V,distrib)"
   ]
  },
  {
   "cell_type": "markdown",
   "metadata": {},
   "source": [
    "Le code écrit ci-dessous permet d'afficher la carte de potentiel, les équipotentielles et les lignes de champ du champ électrique. On peut vérifier la cohérence du résultat : le champ électrique diverge bien des charges positives pour converger vers les charges négatives."
   ]
  },
  {
   "cell_type": "code",
   "execution_count": null,
   "metadata": {},
   "outputs": [],
   "source": [
    "# Cellule à exécuter\n",
    "\n",
    "import matplotlib\n",
    "matplotlib.rcParams['figure.figsize']=[9,9]\n",
    "\n",
    "plt.clf()\n",
    "plt.imshow(V)\n",
    "plt.contour(V,200, cmap=\"Oranges\")\n",
    "plt.streamplot(np.linspace(0,99,100), np.linspace(0,99,100), Ex, Ey, color=\"white\", linewidth=1)  \n",
    "plt.show()"
   ]
  },
  {
   "cell_type": "markdown",
   "metadata": {},
   "source": [
    "Toutefois, nous avons peu d'informations sur la norme du champ électrique sur cette représentation. A l'aide de l'argument ```linewidth``` de la fonction ```streamplot``` nous allons faire en sorte que la ligne de champ électrique soit d'autant plus épaisse que la norme du champ électrique est élevée.\n",
    "\n",
    "On rappelle que ```Ex``` et ```Ey``` sont des tableaux ```numpy```, ce qui simplifie la syntaxe des calculs.\n",
    "\n",
    "> **Question Q7**\n",
    ">\n",
    "> Créer le tableau ```normE``` de même dimension que ```Ex``` et ```Ey``` et donnant la norme du champ électrique en tout point. Déterminer ensuite le maximum ```Emax``` de la norme du champ électrique dans le domaine d'étude. On posera ensuite ```lw=normE/Emax``` et on ré-exécutera la fonction ```streamplot``` avec ```linewidth=75*lw```."
   ]
  },
  {
   "cell_type": "code",
   "execution_count": null,
   "metadata": {},
   "outputs": [],
   "source": [
    "# Cellule à compléter\n",
    "\n",
    "normE=###\n",
    "Emax=###\n",
    "lw=###\n",
    "\n",
    "plt.clf()\n",
    "plt.imshow(V)\n",
    "plt.contour(V,200, cmap=\"Oranges\")\n",
    "plt.streamplot(np.linspace(0,99,100), np.linspace(0,99,100), Ex, Ey, color=\"white\", linewidth=75*lw, arrowsize=1) \n",
    "plt.show()"
   ]
  },
  {
   "cell_type": "code",
   "execution_count": null,
   "metadata": {},
   "outputs": [],
   "source": [
    "# Corrigé \n",
    "\n",
    "normE=np.sqrt(Ex**2+Ey**2)\n",
    "Emax=np.max(normE)\n",
    "lw=normE/Emax\n",
    "\n",
    "plt.clf()\n",
    "plt.imshow(V)\n",
    "plt.contour(V,200, cmap=\"Oranges\")\n",
    "plt.streamplot(np.linspace(0,99,100), np.linspace(0,99,100), Ex, Ey, color=\"white\", linewidth=75*lw, arrowsize=1) \n",
    "plt.show()"
   ]
  },
  {
   "cell_type": "markdown",
   "metadata": {},
   "source": [
    "**Pour aller plus loin :**\n",
    "\n",
    "L'image précédente n'est pas très belle au voisinage des charges car le champ électrique y varie rapidement, et on observe alors des discontinuités de la largeur des lignes de champ.\n",
    "\n",
    "Il faudrait en faite \"lisser\" les variations rapides au sein du tableau ```lw```. Cette méthode est analogue à certains filtres créant du \"flou\" en traitement d'image. Ceux-ci étant déjà codés dans ```scipy```, on en profite et, avec un filtre dit \"gaussien\", on obtient le résultat suivant :"
   ]
  },
  {
   "cell_type": "code",
   "execution_count": null,
   "metadata": {},
   "outputs": [],
   "source": [
    "from scipy import misc,ndimage\n",
    "lw_lisse= ndimage.gaussian_filter(lw, sigma=15)"
   ]
  },
  {
   "cell_type": "code",
   "execution_count": null,
   "metadata": {},
   "outputs": [],
   "source": [
    "plt.clf()\n",
    "plt.imshow(V)\n",
    "plt.contour(V,200, cmap=\"Oranges\")\n",
    "plt.streamplot(np.linspace(0,99,100), np.linspace(0,99,100), Ex, Ey, color=\"white\", linewidth=75*lw_lisse, arrowsize=1)\n",
    "plt.show()"
   ]
  },
  {
   "cell_type": "markdown",
   "metadata": {},
   "source": [
    "Il reste encore le problème des \"effets de bord\" du domaine. Il faudrait par exemple que les charges soient plus éloignées des bordures de $\\mathcal{D}$. La solution la plus simple dans un premier temps serait d'agrandir le domaine... au prix d'un coût en temps de calcul."
   ]
  }
 ],
 "metadata": {
  "celltoolbar": "Format de la Cellule Texte Brut",
  "colab": {
   "name": "python4tp.ipynb",
   "provenance": [],
   "toc_visible": true
  },
  "kernelspec": {
   "display_name": "Python 3",
   "language": "python",
   "name": "python3"
  },
  "language_info": {
   "codemirror_mode": {
    "name": "ipython",
    "version": 3
   },
   "file_extension": ".py",
   "mimetype": "text/x-python",
   "name": "python",
   "nbconvert_exporter": "python",
   "pygments_lexer": "ipython3",
   "version": "3.9.1"
  },
  "toc": {
   "base_numbering": "0",
   "nav_menu": {
    "height": "369px",
    "width": "618.333px"
   },
   "number_sections": false,
   "sideBar": true,
   "skip_h1_title": false,
   "title_cell": "",
   "title_sidebar": "Sommaire",
   "toc_cell": true,
   "toc_position": {
    "height": "calc(100% - 180px)",
    "left": "10px",
    "top": "150px",
    "width": "165px"
   },
   "toc_section_display": true,
   "toc_window_display": true
  }
 },
 "nbformat": 4,
 "nbformat_minor": 2
}
