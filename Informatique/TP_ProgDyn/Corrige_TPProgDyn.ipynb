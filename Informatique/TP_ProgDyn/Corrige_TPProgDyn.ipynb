{
 "cells": [
  {
   "cell_type": "markdown",
   "id": "9f7ac612",
   "metadata": {},
   "source": [
    "# TP2 - Programmation dynamique\n",
    "\n",
    "## 1 - Découpe de tissu\n",
    "\n",
    "### Question 1\n",
    "\n",
    "On a ici deux tailles possibles : 6 et 8 ; de prix de vente respectifs 3 et 5.\n",
    "\n",
    "***Cas 1 : longueur totale de 16***\n",
    "\n",
    "2 pièces de taille 8 rapportent 10€. On ne peut pas faire mieux.\n",
    "\n",
    "***Cas 2 : longueur totale de 21***\n",
    "\n",
    "2 pièces de taille 6 et une pièce de taille 8 rapportent 11€.\n",
    "\n",
    "J'ai l'impression qu'on ne peut pas faire mieux : le gain marginal apporté par les 5cm de longueur supplémentaire par rapport au cas 1 est de 1€... pas optimal du tout.\n",
    "\n",
    "### Question 2 \n",
    "\n",
    "Un ruban de longueur nul rapportera forcément, au maximum, un profit nul. Cela justifie $M[0]=0$.\n",
    "\n",
    "\n",
    "Pour connaître le profit maximal $M(x)$ que l'on peut obtenir avec un ruban de longueur $x$ :\n",
    "- on regarde les pièces dont les longueurs sont $l \\le x$ : ce sont celles que l'on peut encore découper dans le ruban. \n",
    "- on en choisit une $l_i$, on imagine qu'on la découpe : on obtient donc un gain $v_i$. Il reste désormais un ruban de taille $x-l_i$ dont on peut obtenir un profit maximal $M(x-li)$. e profil obtenu maximal en choisissant $l_i$ serait $M(x-l_i)+v_i$.\n",
    "- on répète l'étape précédente pour toutes les pièces que l'on peut découper dans le ruban de longueur $x$... et on choisit au final de découper la pièce $i$ qui maximise $M(x-l_i)+v_i$.\n",
    "\n",
    "### Question 3\n"
   ]
  },
  {
   "cell_type": "code",
   "execution_count": 14,
   "id": "f926182a",
   "metadata": {},
   "outputs": [],
   "source": [
    "def profit_max(p,l,v,L):\n",
    "    M=[0]\n",
    "    for x in range(1,L+1): # construction de la liste M... qui \n",
    "        gains=[0] # la liste des gains possibles M[x-li]+vi\n",
    "        for i in range(p) :\n",
    "            if l[i]<=x:\n",
    "                gains.append(M[x-l[i]]+v[i])\n",
    "        M.append(max(gains))\n",
    "    return M\n",
    "\n",
    "\n",
    "def profit_max2(p,l,v,L): ## avec le démarrage suggéré dans le fichier python\n",
    "    M = []\n",
    "    for x in range(L+1):\n",
    "        if x==0 :\n",
    "            M.append(0)\n",
    "        else :\n",
    "            gains=[0] # la liste des gains possibles M[x-li]+vi\n",
    "            for i in range(p) :\n",
    "                if l[i]<=x:\n",
    "                    gains.append(M[x-l[i]]+v[i])\n",
    "            M.append(max(gains))\n",
    "    return M                "
   ]
  },
  {
   "cell_type": "markdown",
   "id": "70c93437",
   "metadata": {},
   "source": [
    "### Question 4"
   ]
  },
  {
   "cell_type": "code",
   "execution_count": 3,
   "id": "4a51bb96",
   "metadata": {},
   "outputs": [
    {
     "data": {
      "text/plain": [
       "[0, 0, 0, 0, 0, 0, 3, 3, 5, 5, 5, 5, 6, 6, 8, 8, 10, 10, 10, 10, 11, 11]"
      ]
     },
     "execution_count": 3,
     "metadata": {},
     "output_type": "execute_result"
    }
   ],
   "source": [
    "profit_max(2,[6,8],[3,5],21)"
   ]
  },
  {
   "cell_type": "code",
   "execution_count": 6,
   "id": "89c0fada",
   "metadata": {},
   "outputs": [
    {
     "data": {
      "text/plain": [
       "[0, 0, 0, 0, 0, 0, 3, 3, 5, 5, 5, 5, 6, 6, 8, 8, 10, 10, 10, 10, 11, 11]"
      ]
     },
     "execution_count": 6,
     "metadata": {},
     "output_type": "execute_result"
    }
   ],
   "source": [
    "profit_max2(2,[6,8],[3,5],21)"
   ]
  },
  {
   "cell_type": "code",
   "execution_count": 4,
   "id": "817be569",
   "metadata": {},
   "outputs": [
    {
     "data": {
      "text/plain": [
       "311"
      ]
     },
     "execution_count": 4,
     "metadata": {},
     "output_type": "execute_result"
    }
   ],
   "source": [
    "profit_max(2,[6,8],[3,5],500)[-1]\n",
    "## pour tester Q5 avec le jeu de données de Q4."
   ]
  },
  {
   "cell_type": "markdown",
   "id": "b855f15f",
   "metadata": {},
   "source": [
    "### Question 5"
   ]
  },
  {
   "cell_type": "code",
   "execution_count": 15,
   "id": "4b81364c",
   "metadata": {},
   "outputs": [
    {
     "name": "stdout",
     "output_type": "stream",
     "text": [
      "On va pouvoir gagner 806 €\n"
     ]
    }
   ],
   "source": [
    "import numpy as np\n",
    "\n",
    "p = 10 # modeles\n",
    "np.random.seed(0) # reset générateur aléatoire. chacun travaille avec les même données.\n",
    "longueur_piece = [np.random.randint(low=63,high=130) for i in range(p)] #cm\n",
    "valeur_piece   = [np.random.randint(low=80,high=150) for i in range(p)] #euros\n",
    "print(\"On va pouvoir gagner\", profit_max(p,longueur_piece,valeur_piece,500)[-1], \"€\" )\n"
   ]
  },
  {
   "cell_type": "markdown",
   "id": "c5f84f67",
   "metadata": {},
   "source": [
    "***Complexité spatiale***\n",
    "\n",
    "Dans le pire des cas : \n",
    "- `M` est de longueur $L$ : $O(L)$\n",
    "- `gains` est de longueur $p$ : $O(p)$\n",
    "\n",
    "***Complexité temporelle***\n",
    "\n",
    "La boucle sur `x` est appelée $L$ fois. Pour chaque tour, la boucle sur `i` est appelée $p$ fois. Complexité : $O(L\\times p)$."
   ]
  },
  {
   "cell_type": "markdown",
   "id": "e31fa3b1",
   "metadata": {},
   "source": [
    "### Question 6"
   ]
  },
  {
   "cell_type": "code",
   "execution_count": 16,
   "id": "9fae9d8e",
   "metadata": {},
   "outputs": [],
   "source": [
    "def decoupe_optimale(p,l,v,L,M):\n",
    "    if L<min(l) :\n",
    "        return []\n",
    "    else :\n",
    "        for i in range(p):\n",
    "            if M[L-l[i]]+v[i]==M[L]:\n",
    "                return [i]+decoupe_optimale(p,l,v,L-l[i],M)"
   ]
  },
  {
   "cell_type": "code",
   "execution_count": 21,
   "id": "1bf2f560",
   "metadata": {},
   "outputs": [
    {
     "name": "stdout",
     "output_type": "stream",
     "text": [
      "Pour le ruban exemple de la question 1 : [0, 0, 1]\n",
      "On retrouve bien ce que l'on avait prévu.\n",
      " \n",
      "Autre jeu de données.\n",
      "Tailles possibles : [107, 110, 127, 72, 84, 99, 75, 121, 128, 102]\n",
      "Prix : [126, 117, 105, 89, 100, 149, 127, 144, 129, 109]\n",
      "Pour le ruban du jeu de données : [5, 5, 6, 6, 6, 6]\n",
      "On a découpé 498 cm de tissu et on a gagné 806 €.\n"
     ]
    }
   ],
   "source": [
    "M=profit_max(2,[6,8],[3,5],21)\n",
    "print(\"Pour le ruban exemple de la question 1 :\", decoupe_optimale(2,[6,8],[3,5],21,M))\n",
    "print(\"On retrouve bien ce que l'on avait prévu.\")\n",
    "print(\" \")\n",
    "M=profit_max(p,longueur_piece,valeur_piece,500)\n",
    "\n",
    "print(\"Autre jeu de données.\")\n",
    "print(\"Tailles possibles :\", longueur_piece)\n",
    "print(\"Prix :\", valeur_piece)\n",
    "print(\"Pour le ruban du jeu de données :\", decoupe_optimale(p,longueur_piece,valeur_piece,500,M))\n",
    "p\n",
    "\n",
    "#Vérifions le gain ainsi récupéré\n",
    "\n",
    "D=decoupe_optimale(p,longueur_piece,valeur_piece,500,M)\n",
    "gain=0\n",
    "longueur=0\n",
    "for i in range(len(D)):\n",
    "    gain+=valeur_piece[D[i]]\n",
    "    longueur+=longueur_piece[D[i]]\n",
    "\n",
    "print(\"On a découpé\", longueur, \"cm de tissu et on a gagné\", gain, \"€.\")\n",
    "    "
   ]
  },
  {
   "cell_type": "markdown",
   "id": "2b0d32ca",
   "metadata": {},
   "source": [
    "## 2 - Allocation de skis\n",
    "\n",
    "### Question 7"
   ]
  },
  {
   "cell_type": "code",
   "execution_count": 1,
   "id": "36c24ee8",
   "metadata": {},
   "outputs": [],
   "source": [
    "def eps(i,j):\n",
    "    return abs(longueur_skis[i]-taille_skieur[j])"
   ]
  },
  {
   "cell_type": "markdown",
   "id": "c4dd8e9f",
   "metadata": {},
   "source": [
    "### Question 8"
   ]
  },
  {
   "cell_type": "code",
   "execution_count": 21,
   "id": "e705d36c",
   "metadata": {},
   "outputs": [
    {
     "data": {
      "text/plain": [
       "170.0"
      ]
     },
     "execution_count": 21,
     "metadata": {},
     "output_type": "execute_result"
    }
   ],
   "source": [
    "import numpy as np\n",
    "\n",
    "n = 40 # paires de skis\n",
    "m = 10 # skieurs\n",
    "np.random.seed(0) # reset générateur aléatoire. chacun travaille avec les même données.\n",
    "# on utilise des lois normales (\"courbes en cloche\"), \n",
    "#qui correspondent à une repartition raisonnable de tailles. \n",
    "longueur_skis = [round(np.random.normal(170,20),-1) for i in range(n)] # en cm. \n",
    "taille_skieur = [round(np.random.normal(170,20),0) for i in range(m)] # en cm.      \n",
    "longueur_skis.sort() #trié\n",
    "taille_skieur.sort() # trié\n",
    "\n",
    "def score(a):\n",
    "    S=0\n",
    "    for j in range(len(a)):\n",
    "        S+=eps(a[j],j)\n",
    "    return S\n",
    "        \n",
    "ae=[n*j//m  for j in range(m)]\n",
    "\n",
    "score(ae)\n",
    "    "
   ]
  },
  {
   "cell_type": "markdown",
   "id": "865e6b61",
   "metadata": {},
   "source": [
    "### Question 9\n",
    "\n",
    "Pour le skieur 1 : $n=40$ possibilités\n",
    "\n",
    "Pour le skieur 2 : $n-1=39$ possibilités\n",
    "\n",
    "...\n",
    "\n",
    "Pour le skieur m : $n-(m-1)=30$ possibilités\n",
    "\n",
    "Soit un nombre d'attributions possibles de :\n",
    "$$N=n\\times(n-1)\\times...\\times(n-(m-1))=\\frac{n!}{(n-m)!}=\\frac{40!}{30!}$$"
   ]
  },
  {
   "cell_type": "code",
   "execution_count": 3,
   "id": "ed3bbbe1",
   "metadata": {},
   "outputs": [
    {
     "name": "stdout",
     "output_type": "stream",
     "text": [
      "Soit : 3.0759905240064 e15 attributions possibles.\n"
     ]
    }
   ],
   "source": [
    "print(\"Soit :\",40*39*38*37*36*35*34*33*32*31/1e15\n",
    "      , \"e15 attributions possibles.\")"
   ]
  },
  {
   "cell_type": "markdown",
   "id": "5a4b74ad",
   "metadata": {},
   "source": [
    "On ne va pas tout tester....\n",
    "\n",
    "### Question 10\n",
    "\n",
    "Soient j1 et j2 les indices des deux skieurs. Seuls les termes $eps(a[j1],j1)$ et $eps(a[j2],j2)$ sont modifiés dans la somme.\n",
    "\n",
    "Avant inversion, leur somme vaut :\n",
    "\n",
    "$eps(a[j1],j1)+eps(a[j2],j2)=|t-L|+|T-l|$\n",
    "\n",
    "Après inversion, elle vaut :\n",
    "\n",
    "$eps(a[j1],j1)+eps(a[j2],j2)=|t-l|+|T-L|$\n",
    "\n",
    "Il s'agit donc de montrer que :\n",
    "\n",
    "$|t-l|+|T-L| < |t-L|+|T-l|$\n",
    "\n",
    "Ce qui peut se faire par une disjonction de cas...\n",
    "\n",
    "\n",
    "\n",
    "\n",
    "\n",
    "\n",
    "\n"
   ]
  },
  {
   "cell_type": "markdown",
   "id": "6bc98e92",
   "metadata": {},
   "source": [
    "### Question 11\n",
    "\n",
    "\n",
    "|  | $j$ |0|1|2|\n",
    "|---|---|-- |--|--|\n",
    "|$i$| | | 185 |195|\n",
    "|0| | 0 | $\\infty$| $\\infty$|\n",
    "|1|160| 0 | 25 | $\\infty$ |\n",
    "|2|170| 0 | 15 | 50 |\n",
    "|3|180| 0 | 5 | 30 |\n",
    "\n",
    "### Question 12\n",
    "\n",
    "$$S[i,0]=0$$ : si aucun skieur ne veut de ski... le score est nécessairement nul car on somme sur le nombre de skieurs $m$ pour calculer $S$. Si personne ne veut de ski, tout le monde est content (sauf le vendeur...).\n",
    "\n",
    "$$S[0,j]=\\infty$$ : s'il n'y a pas de ski et qu'il y a des skieurs... c'est le pire des cas : il y a forcément un skieur infiniment insatisfait.\n",
    "\n",
    "$$S[i,j]= \\min \\{S[i-1,j], S[i-1,j-1]+\\varepsilon(i-1,j-1)\\}$$\n",
    "\n",
    "Si on a i skis et j skieurs :\n",
    "- on peut donner le ième ski (le plus grand, celui d'indice $i-1$) au jème skieur (le plus grand, celui d'indide $j-1$). Cela créé une contribution au score $eps(i-1,j-1)$. Il faudra ensuite maintenant contenter $j-1$ skieurs avec $i-1$ skis... avec le score optimal $S[i-1,j-1]$.\n",
    "- on peut ne pas donner le ième ski au plus grand skieur (on ne le donnera donc à personne). On enlève alors le ième ski de la liste des skis attribuables. Le score optimal sera alors $S[i-1,j]$ car il faudra contenter $j$ skieurs avec les $i-1$ skis restants.\n",
    "\n",
    "Parmi ces deux stratégies, on choisit celle qui possède un score minimal.\n",
    "\n",
    "\n",
    "### Question 13\n"
   ]
  },
  {
   "cell_type": "code",
   "execution_count": 4,
   "id": "cc188ac9",
   "metadata": {
    "scrolled": true
   },
   "outputs": [],
   "source": [
    "S = np.zeros(shape=(n+1,m+1))\n",
    "\n",
    "def remplissage():\n",
    "    S[0,1:m+1] = np.inf # ligne 0\n",
    "    # S[0:n+1,0] = 0 inutile car on a déjà des 0 partout\n",
    "    for i in range(1,n+1):\n",
    "        for j in range(1,m+1):\n",
    "            S[i,j]=min(S[i-1,j],S[i-1,j-1]+eps(i-1,j-1))\n",
    "\n"
   ]
  },
  {
   "cell_type": "markdown",
   "id": "55a5c085",
   "metadata": {},
   "source": [
    "### Question 14"
   ]
  },
  {
   "cell_type": "code",
   "execution_count": 5,
   "id": "63ecf657",
   "metadata": {},
   "outputs": [
    {
     "name": "stdout",
     "output_type": "stream",
     "text": [
      "Durée d'exécution du remplissage du tableau\n",
      "1.15 ms ± 18.9 µs per loop (mean ± std. dev. of 7 runs, 1000 loops each)\n",
      "Le score optimal est 32.0\n"
     ]
    }
   ],
   "source": [
    "print(\"Durée d'exécution du remplissage du tableau\")\n",
    "%timeit remplissage()\n",
    "Sopt=S[40,10]\n",
    "print(\"Le score optimal est\", Sopt)"
   ]
  },
  {
   "cell_type": "code",
   "execution_count": 9,
   "id": "e5c7d50e",
   "metadata": {},
   "outputs": [
    {
     "data": {
      "text/plain": [
       "array([[  0.,  inf,  inf,  inf,  inf,  inf,  inf,  inf,  inf,  inf,  inf],\n",
       "       [  0.,  16.,  inf,  inf,  inf,  inf,  inf,  inf,  inf,  inf,  inf],\n",
       "       [  0.,   6.,  24.,  inf,  inf,  inf,  inf,  inf,  inf,  inf,  inf],\n",
       "       [  0.,   4.,   8.,  26.,  inf,  inf,  inf,  inf,  inf,  inf,  inf],\n",
       "       [  0.,   4.,   8.,  16.,  31.,  inf,  inf,  inf,  inf,  inf,  inf],\n",
       "       [  0.,   4.,   8.,  16.,  21.,  32.,  inf,  inf,  inf,  inf,  inf],\n",
       "       [  0.,   4.,   8.,  16.,  21.,  22.,  42.,  inf,  inf,  inf,  inf],\n",
       "       [  0.,   4.,   8.,  16.,  21.,  22.,  22.,  43.,  inf,  inf,  inf],\n",
       "       [  0.,   4.,   8.,  16.,  21.,  22.,  22.,  23.,  49.,  inf,  inf],\n",
       "       [  0.,   4.,   8.,  16.,  21.,  22.,  22.,  23.,  29.,  75.,  inf],\n",
       "       [  0.,   4.,   8.,  16.,  21.,  22.,  22.,  23.,  29.,  55., 124.],\n",
       "       [  0.,   4.,   8.,  16.,  21.,  22.,  22.,  23.,  27.,  45.,  94.],\n",
       "       [  0.,   4.,   8.,  16.,  21.,  22.,  22.,  23.,  27.,  43.,  84.],\n",
       "       [  0.,   4.,   8.,  16.,  21.,  22.,  22.,  23.,  27.,  43.,  82.],\n",
       "       [  0.,   4.,   8.,  16.,  21.,  22.,  22.,  23.,  27.,  43.,  82.],\n",
       "       [  0.,   4.,   8.,  16.,  21.,  22.,  22.,  23.,  27.,  43.,  82.],\n",
       "       [  0.,   4.,   8.,  16.,  21.,  22.,  22.,  23.,  27.,  43.,  82.],\n",
       "       [  0.,   4.,   8.,  16.,  21.,  22.,  22.,  23.,  27.,  43.,  82.],\n",
       "       [  0.,   4.,   8.,  16.,  21.,  22.,  22.,  23.,  27.,  43.,  82.],\n",
       "       [  0.,   4.,   8.,  16.,  21.,  22.,  22.,  23.,  27.,  43.,  82.],\n",
       "       [  0.,   4.,   8.,  16.,  21.,  22.,  22.,  23.,  27.,  33.,  72.],\n",
       "       [  0.,   4.,   8.,  16.,  21.,  22.,  22.,  23.,  27.,  33.,  62.],\n",
       "       [  0.,   4.,   8.,  16.,  21.,  22.,  22.,  23.,  27.,  33.,  62.],\n",
       "       [  0.,   4.,   8.,  16.,  21.,  22.,  22.,  23.,  27.,  33.,  62.],\n",
       "       [  0.,   4.,   8.,  16.,  21.,  22.,  22.,  23.,  27.,  33.,  62.],\n",
       "       [  0.,   4.,   8.,  16.,  21.,  22.,  22.,  23.,  27.,  33.,  62.],\n",
       "       [  0.,   4.,   8.,  16.,  21.,  22.,  22.,  23.,  27.,  33.,  62.],\n",
       "       [  0.,   4.,   8.,  16.,  21.,  22.,  22.,  23.,  27.,  31.,  52.],\n",
       "       [  0.,   4.,   8.,  16.,  21.,  22.,  22.,  23.,  27.,  31.,  50.],\n",
       "       [  0.,   4.,   8.,  16.,  21.,  22.,  22.,  23.,  27.,  31.,  50.],\n",
       "       [  0.,   4.,   8.,  16.,  21.,  22.,  22.,  23.,  27.,  31.,  50.],\n",
       "       [  0.,   4.,   8.,  16.,  21.,  22.,  22.,  23.,  27.,  31.,  50.],\n",
       "       [  0.,   4.,   8.,  16.,  21.,  22.,  22.,  23.,  27.,  31.,  50.],\n",
       "       [  0.,   4.,   8.,  16.,  21.,  22.,  22.,  23.,  27.,  31.,  40.],\n",
       "       [  0.,   4.,   8.,  16.,  21.,  22.,  22.,  23.,  27.,  31.,  40.],\n",
       "       [  0.,   4.,   8.,  16.,  21.,  22.,  22.,  23.,  27.,  31.,  40.],\n",
       "       [  0.,   4.,   8.,  16.,  21.,  22.,  22.,  23.,  27.,  31.,  40.],\n",
       "       [  0.,   4.,   8.,  16.,  21.,  22.,  22.,  23.,  27.,  31.,  32.],\n",
       "       [  0.,   4.,   8.,  16.,  21.,  22.,  22.,  23.,  27.,  31.,  32.],\n",
       "       [  0.,   4.,   8.,  16.,  21.,  22.,  22.,  23.,  27.,  31.,  32.],\n",
       "       [  0.,   4.,   8.,  16.,  21.,  22.,  22.,  23.,  27.,  31.,  32.]])"
      ]
     },
     "execution_count": 9,
     "metadata": {},
     "output_type": "execute_result"
    }
   ],
   "source": [
    "S"
   ]
  },
  {
   "cell_type": "markdown",
   "id": "42dfaa45",
   "metadata": {},
   "source": [
    "On part d'en bas à droite : si quand on remonte d'une ligne, le nombre $S[i,j]$ de la dernière colonne n'a pas changé, c'est qu'on peut enlever la dernière ligne sans changer la performance de l'attribution. On remonte donc jusqu'à la dernière valeur avant changement du score (ici de 32 à 40). Ensuite, on attribue le ski qui a permis le passage de 40 à 32 au plus grand skieur. \n",
    "\n",
    "On a désormais un problème avec un skieur de moins et un ski de moins... on part en diagonale vers le haut à gauche... et on remonte tant que le score est inchangé... etc...\n",
    "\n",
    "### Question 15"
   ]
  },
  {
   "cell_type": "code",
   "execution_count": 6,
   "id": "81796588",
   "metadata": {},
   "outputs": [],
   "source": [
    "def attribution():\n",
    "    nl,nc=S.shape\n",
    "    nski=nl-1\n",
    "    nskieur=nc-1\n",
    "    a=[-1]*nskieur\n",
    "    i=nski# on commence par regarder l'impact du plus grand ski (dernière ligne)\n",
    "    j=nskieur# i et j vont évoluer pour suivre le chemin\n",
    "    for j in range(nskieur,0, -1): # j va de 10 à 1\n",
    "        score=S[i,j]\n",
    "        while S[i,j]==score:\n",
    "            i=i-1\n",
    "        a[j-1]=i # dans la liste a, le jème ski est à la position j-1\n",
    "    return a\n",
    "           "
   ]
  },
  {
   "cell_type": "code",
   "execution_count": 18,
   "id": "2b1699ff",
   "metadata": {},
   "outputs": [],
   "source": [
    "aO=attribution()"
   ]
  },
  {
   "cell_type": "markdown",
   "id": "b16c1862",
   "metadata": {},
   "source": [
    "### Question 16"
   ]
  },
  {
   "cell_type": "code",
   "execution_count": 33,
   "id": "1dbd2fa9",
   "metadata": {},
   "outputs": [
    {
     "name": "stdout",
     "output_type": "stream",
     "text": [
      "i=21\n",
      "Wall time: 627 ms\n",
      "i=23\n",
      "Wall time: 1.65 s\n",
      "i=25\n",
      "Wall time: 4.15 s\n"
     ]
    },
    {
     "data": {
      "text/plain": [
       "62.0"
      ]
     },
     "execution_count": 33,
     "metadata": {},
     "output_type": "execute_result"
    }
   ],
   "source": [
    "def Sr(i,j):\n",
    "    if j==0 : return 0\n",
    "    if i==0 : return np.inf\n",
    "    return min([Sr(i-1,j),Sr(i-1,j-1)+eps(i-1,j-1)])\n",
    "\n",
    "print(\"i=21\")\n",
    "%time Sr(21,10)\n",
    "print(\"i=23\")\n",
    "%time Sr(23,10)\n",
    "print(\"i=25\")\n",
    "%time Sr(25,10)"
   ]
  },
  {
   "cell_type": "markdown",
   "id": "90ec9a1b",
   "metadata": {},
   "source": [
    "Avec i=40... ça va être long...\n",
    "\n"
   ]
  },
  {
   "cell_type": "markdown",
   "id": "4a9872ab",
   "metadata": {},
   "source": [
    "### Question 17"
   ]
  },
  {
   "cell_type": "code",
   "execution_count": 11,
   "id": "a58d00f0",
   "metadata": {},
   "outputs": [
    {
     "name": "stdout",
     "output_type": "stream",
     "text": [
      "i=21\n",
      "Wall time: 0 ns\n",
      "i=23\n",
      "Wall time: 0 ns\n",
      "i=25\n",
      "Wall time: 0 ns\n"
     ]
    },
    {
     "data": {
      "text/plain": [
       "62.0"
      ]
     },
     "execution_count": 11,
     "metadata": {},
     "output_type": "execute_result"
    }
   ],
   "source": [
    "SR = {(0,0) : 0}            \n",
    "def Sr_memo(i,j):\n",
    "    if (i,j) in SR : return SR[(i,j)]\n",
    "    if j==0 : \n",
    "        SR[(i,j)]=0\n",
    "        return 0\n",
    "    if i==0 : \n",
    "        SR[(i,j)]=np.inf\n",
    "        return np.inf\n",
    "    SR[(i,j)]=min([Sr_memo(i-1,j),Sr_memo(i-1,j-1)+eps(i-1,j-1)])\n",
    "    return SR[(i,j)]\n",
    "\n",
    "print(\"i=21\")\n",
    "%time Sr_memo(21,10)\n",
    "print(\"i=23\")\n",
    "%time Sr_memo(23,10)\n",
    "print(\"i=25\")\n",
    "%time Sr_memo(25,10)"
   ]
  },
  {
   "cell_type": "markdown",
   "id": "95901eab",
   "metadata": {},
   "source": [
    "Ah ouais... quand même !"
   ]
  },
  {
   "cell_type": "code",
   "execution_count": 10,
   "id": "f2610870",
   "metadata": {
    "scrolled": true
   },
   "outputs": [
    {
     "name": "stdout",
     "output_type": "stream",
     "text": [
      "i=40\n",
      "Durée de remplissage avec dictionnaire :\n",
      "750 ns ± 9.29 ns per loop (mean ± std. dev. of 7 runs, 1000000 loops each)\n",
      "Rappel : 1.15ms avec tableau Numpy\n"
     ]
    }
   ],
   "source": [
    "print(\"i=40\")\n",
    "print(\"Durée de remplissage avec dictionnaire :\")\n",
    "%timeit Sr_memo(40,10)\n",
    "print(\"Rappel : 1.15ms avec tableau Numpy\")"
   ]
  },
  {
   "cell_type": "markdown",
   "id": "f84ef7cc",
   "metadata": {},
   "source": [
    "C'est beau.\n",
    "\n",
    "### Question 19"
   ]
  },
  {
   "cell_type": "code",
   "execution_count": 34,
   "id": "eb0d0530",
   "metadata": {},
   "outputs": [],
   "source": [
    "def meilleure(j):\n",
    "    ecart=np.inf\n",
    "    i_retenu=-1\n",
    "    for i in range(len(longueur_skis)):\n",
    "        if eps(i,j)<ecart:\n",
    "            i_retenu=i\n",
    "            ecart=eps(i,j)\n",
    "    return i_retenu\n",
    "        "
   ]
  },
  {
   "cell_type": "markdown",
   "id": "19954e27",
   "metadata": {},
   "source": [
    "### Question 20"
   ]
  },
  {
   "cell_type": "code",
   "execution_count": 35,
   "id": "1165c7d9",
   "metadata": {},
   "outputs": [],
   "source": [
    "def meilleure_dispo(j, disponible):\n",
    "    ecart=np.inf\n",
    "    i_retenu=-1\n",
    "    for i in range(len(longueur_skis)):\n",
    "        if eps(i,j)<ecart and disponible[i]:\n",
    "            i_retenu=i\n",
    "            ecart=eps(i,j)\n",
    "    return i_retenu\n",
    "\n",
    "\n",
    "    "
   ]
  },
  {
   "cell_type": "markdown",
   "id": "7d68b245",
   "metadata": {},
   "source": [
    "### Question 21"
   ]
  },
  {
   "cell_type": "code",
   "execution_count": 37,
   "id": "674ef755",
   "metadata": {},
   "outputs": [
    {
     "name": "stdout",
     "output_type": "stream",
     "text": [
      "L'attribution gloutonne est : [2, 1, 3, 4, 5, 6, 7, 10, 26, 36]\n",
      "Son score est : 36.0\n"
     ]
    }
   ],
   "source": [
    "def glouton():\n",
    "    disponible=[True for i in range(len(longueur_skis))]\n",
    "    ag=[-1 for j in range(len(taille_skieur))]\n",
    "    for j in range(len(taille_skieur)):\n",
    "        ag[j]=meilleure_dispo(j,disponible)\n",
    "        disponible[ag[j]]=False     \n",
    "    return ag\n",
    "\n",
    "ag=glouton()\n",
    "print(\"L'attribution gloutonne est :\", ag)\n",
    "print(\"Son score est :\", score(ag))"
   ]
  },
  {
   "cell_type": "markdown",
   "id": "b7df4670",
   "metadata": {},
   "source": [
    "### Question 22"
   ]
  },
  {
   "cell_type": "code",
   "execution_count": 40,
   "id": "5cfbf81e",
   "metadata": {},
   "outputs": [
    {
     "name": "stdout",
     "output_type": "stream",
     "text": [
      "L'attribution empirique est : [0, 4, 8, 12, 16, 20, 24, 28, 32, 36]\n",
      "Son score est : 170.0\n",
      "L'attribution optimale est : [1, 2, 3, 4, 5, 6, 7, 10, 26, 36]\n",
      "Son score est : 32.0\n"
     ]
    }
   ],
   "source": [
    "print(\"L'attribution empirique est :\", ae)\n",
    "print(\"Son score est :\", score(ae))\n",
    "print(\"L'attribution optimale est :\", aO)\n",
    "print(\"Son score est :\", score(aO))"
   ]
  },
  {
   "cell_type": "markdown",
   "id": "8087c265",
   "metadata": {},
   "source": [
    "Solution empirique en $O(m)$ mais peu efficace a priori. Très rapide en développement.\n",
    "Solution gloutonne en $O(m\\times n)$, donne ici un résultat assez bon. Assez rapide à développer.\n",
    "Solution optimale très élégante. Nettement plus complexe à développer. Complexité probablement nettement plus grande.\n",
    "\n",
    "Bref, le glouton pourrait suffire si on n'a pas beaucoup d'argent pour payer des développeurs.\n"
   ]
  }
 ],
 "metadata": {
  "kernelspec": {
   "display_name": "Python 3",
   "language": "python",
   "name": "python3"
  },
  "language_info": {
   "codemirror_mode": {
    "name": "ipython",
    "version": 3
   },
   "file_extension": ".py",
   "mimetype": "text/x-python",
   "name": "python",
   "nbconvert_exporter": "python",
   "pygments_lexer": "ipython3",
   "version": "3.9.1"
  },
  "toc": {
   "base_numbering": 1,
   "nav_menu": {},
   "number_sections": false,
   "sideBar": true,
   "skip_h1_title": false,
   "title_cell": "Table of Contents",
   "title_sidebar": "Contents",
   "toc_cell": false,
   "toc_position": {},
   "toc_section_display": true,
   "toc_window_display": false
  }
 },
 "nbformat": 4,
 "nbformat_minor": 5
}
