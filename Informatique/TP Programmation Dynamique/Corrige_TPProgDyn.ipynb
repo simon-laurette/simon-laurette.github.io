{
 "cells": [
  {
   "cell_type": "markdown",
   "id": "9f7ac612",
   "metadata": {},
   "source": [
    "# TP2 - Programmation dynamique\n",
    "\n",
    "## 1 - Découpe de tissu\n",
    "\n",
    "### Question 1\n",
    "\n",
    "On a ici deux tailles possibles : 6 et 8 ; de prix de vente respectifs 3 et 5.\n",
    "\n",
    "***Cas 1 : longueur totale de 16***\n",
    "\n",
    "2 pièces de taille 8 rapportent 10€. On ne peut pas faire mieux.\n",
    "\n",
    "***Cas 2 : longueur totale de 21***\n",
    "\n",
    "2 pièces de taille 6 et une pièce de taille 8 rapportent 11€.\n",
    "\n",
    "J'ai l'impression qu'on ne peut pas faire mieux : le gain marginal apporté par les 5cm de longueur supplémentaire par rapport au cas 1 est de 1€... pas optimal du tout.\n",
    "\n",
    "### Question 2 \n",
    "\n",
    "Un ruban de longueur nul rapportera forcément, au maximum, un profit nul. Cela justifie $M[0]=0$.\n",
    "\n",
    "\n",
    "Pour connaître le profit maximal $M(x)$ que l'on peut obtenir avec un ruban de longueur $x$ :\n",
    "- on regarde les pièces dont les longueurs sont $l \\le x$ : ce sont celles que l'on peut encore découper dans le ruban. \n",
    "- on en choisit une $l_i$, on imagine qu'on la découpe : on obtient donc un gain $v_i$. Il reste désormais un ruban de taille $x-l_i$ dont on peut obtenir un profit maximal $M(x-li)$. e profil obtenu maximal en choisissant $l_i$ serait $M(x-l_i)+v_i$.\n",
    "- on répète l'étape précédente pour toutes les pièces que l'on peut découper dans le ruban de longueur $x$... et on choisit au final de découper la pièce $i$ qui maximise $M(x-l_i)+v_i$.\n",
    "\n",
    "### Question 3\n"
   ]
  },
  {
   "cell_type": "code",
   "execution_count": 14,
   "id": "f926182a",
   "metadata": {},
   "outputs": [],
   "source": [
    "def profit_max(p,l,v,L):\n",
    "    M=[0]\n",
    "    for x in range(1,L+1): # construction de la liste M... qui \n",
    "        gains=[0] # la liste des gains possibles M[x-li]+vi\n",
    "        for i in range(p) :\n",
    "            if l[i]<=x:\n",
    "                gains.append(M[x-l[i]]+v[i])\n",
    "        M.append(max(gains))\n",
    "    return M\n",
    "\n",
    "\n",
    "def profit_max2(p,l,v,L): ## avec le démarrage suggéré dans le fichier python\n",
    "    M = []\n",
    "    for x in range(L+1):\n",
    "        if x==0 :\n",
    "            M.append(0)\n",
    "        else :\n",
    "            gains=[0] # la liste des gains possibles M[x-li]+vi\n",
    "            for i in range(p) :\n",
    "                if l[i]<=x:\n",
    "                    gains.append(M[x-l[i]]+v[i])\n",
    "            M.append(max(gains))\n",
    "    return M                "
   ]
  },
  {
   "cell_type": "markdown",
   "id": "70c93437",
   "metadata": {},
   "source": [
    "### Question 4"
   ]
  },
  {
   "cell_type": "code",
   "execution_count": 3,
   "id": "4a51bb96",
   "metadata": {},
   "outputs": [
    {
     "data": {
      "text/plain": [
       "[0, 0, 0, 0, 0, 0, 3, 3, 5, 5, 5, 5, 6, 6, 8, 8, 10, 10, 10, 10, 11, 11]"
      ]
     },
     "execution_count": 3,
     "metadata": {},
     "output_type": "execute_result"
    }
   ],
   "source": [
    "profit_max(2,[6,8],[3,5],21)"
   ]
  },
  {
   "cell_type": "code",
   "execution_count": 6,
   "id": "89c0fada",
   "metadata": {},
   "outputs": [
    {
     "data": {
      "text/plain": [
       "[0, 0, 0, 0, 0, 0, 3, 3, 5, 5, 5, 5, 6, 6, 8, 8, 10, 10, 10, 10, 11, 11]"
      ]
     },
     "execution_count": 6,
     "metadata": {},
     "output_type": "execute_result"
    }
   ],
   "source": [
    "profit_max2(2,[6,8],[3,5],21)"
   ]
  },
  {
   "cell_type": "code",
   "execution_count": 4,
   "id": "817be569",
   "metadata": {},
   "outputs": [
    {
     "data": {
      "text/plain": [
       "311"
      ]
     },
     "execution_count": 4,
     "metadata": {},
     "output_type": "execute_result"
    }
   ],
   "source": [
    "profit_max(2,[6,8],[3,5],500)[-1]\n",
    "## pour tester Q5 avec le jeu de données de Q4."
   ]
  },
  {
   "cell_type": "markdown",
   "id": "b855f15f",
   "metadata": {},
   "source": [
    "### Question 5"
   ]
  },
  {
   "cell_type": "code",
   "execution_count": 15,
   "id": "4b81364c",
   "metadata": {},
   "outputs": [
    {
     "name": "stdout",
     "output_type": "stream",
     "text": [
      "On va pouvoir gagner 806 €\n"
     ]
    }
   ],
   "source": [
    "import numpy as np\n",
    "\n",
    "p = 10 # modeles\n",
    "np.random.seed(0) # reset générateur aléatoire. chacun travaille avec les même données.\n",
    "longueur_piece = [np.random.randint(low=63,high=130) for i in range(p)] #cm\n",
    "valeur_piece   = [np.random.randint(low=80,high=150) for i in range(p)] #euros\n",
    "print(\"On va pouvoir gagner\", profit_max(p,longueur_piece,valeur_piece,500)[-1], \"€\" )\n"
   ]
  },
  {
   "cell_type": "markdown",
   "id": "c5f84f67",
   "metadata": {},
   "source": [
    "***Complexité spatiale***\n",
    "\n",
    "Dans le pire des cas : \n",
    "- `M` est de longueur $L$ : $O(L)$\n",
    "- `gains` est de longueur $p$ : $O(p)$\n",
    "\n",
    "***Complexité temporelle***\n",
    "\n",
    "La boucle sur `x` est appelée $L$ fois. Pour chaque tour, la boucle sur `i` est appelée $p$ fois. Complexité : $O(L\\times p)$."
   ]
  },
  {
   "cell_type": "markdown",
   "id": "e31fa3b1",
   "metadata": {},
   "source": [
    "### Question 6"
   ]
  },
  {
   "cell_type": "code",
   "execution_count": 16,
   "id": "9fae9d8e",
   "metadata": {},
   "outputs": [],
   "source": [
    "def decoupe_optimale(p,l,v,L,M):\n",
    "    if L<min(l) :\n",
    "        return []\n",
    "    else :\n",
    "        for i in range(p):\n",
    "            if M[L-l[i]]+v[i]==M[L]:\n",
    "                return [i]+decoupe_optimale(p,l,v,L-l[i],M)"
   ]
  },
  {
   "cell_type": "code",
   "execution_count": 21,
   "id": "1bf2f560",
   "metadata": {},
   "outputs": [
    {
     "name": "stdout",
     "output_type": "stream",
     "text": [
      "Pour le ruban exemple de la question 1 : [0, 0, 1]\n",
      "On retrouve bien ce que l'on avait prévu.\n",
      " \n",
      "Autre jeu de données.\n",
      "Tailles possibles : [107, 110, 127, 72, 84, 99, 75, 121, 128, 102]\n",
      "Prix : [126, 117, 105, 89, 100, 149, 127, 144, 129, 109]\n",
      "Pour le ruban du jeu de données : [5, 5, 6, 6, 6, 6]\n",
      "On a découpé 498 cm de tissu et on a gagné 806 €.\n"
     ]
    }
   ],
   "source": [
    "M=profit_max(2,[6,8],[3,5],21)\n",
    "print(\"Pour le ruban exemple de la question 1 :\", decoupe_optimale(2,[6,8],[3,5],21,M))\n",
    "print(\"On retrouve bien ce que l'on avait prévu.\")\n",
    "print(\" \")\n",
    "M=profit_max(p,longueur_piece,valeur_piece,500)\n",
    "\n",
    "print(\"Autre jeu de données.\")\n",
    "print(\"Tailles possibles :\", longueur_piece)\n",
    "print(\"Prix :\", valeur_piece)\n",
    "print(\"Pour le ruban du jeu de données :\", decoupe_optimale(p,longueur_piece,valeur_piece,500,M))\n",
    "p\n",
    "\n",
    "#Vérifions le gain ainsi récupéré\n",
    "\n",
    "D=decoupe_optimale(p,longueur_piece,valeur_piece,500,M)\n",
    "gain=0\n",
    "longueur=0\n",
    "for i in range(len(D)):\n",
    "    gain+=valeur_piece[D[i]]\n",
    "    longueur+=longueur_piece[D[i]]\n",
    "\n",
    "print(\"On a découpé\", longueur, \"cm de tissu et on a gagné\", gain, \"€.\")\n",
    "    "
   ]
  }
 ],
 "metadata": {
  "kernelspec": {
   "display_name": "Python 3",
   "language": "python",
   "name": "python3"
  },
  "language_info": {
   "codemirror_mode": {
    "name": "ipython",
    "version": 3
   },
   "file_extension": ".py",
   "mimetype": "text/x-python",
   "name": "python",
   "nbconvert_exporter": "python",
   "pygments_lexer": "ipython3",
   "version": "3.9.1"
  },
  "toc": {
   "base_numbering": 1,
   "nav_menu": {},
   "number_sections": false,
   "sideBar": true,
   "skip_h1_title": false,
   "title_cell": "Table of Contents",
   "title_sidebar": "Contents",
   "toc_cell": false,
   "toc_position": {},
   "toc_section_display": true,
   "toc_window_display": false
  }
 },
 "nbformat": 4,
 "nbformat_minor": 5
}
