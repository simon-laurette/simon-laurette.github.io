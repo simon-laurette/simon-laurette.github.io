{
 "cells": [
  {
   "cell_type": "markdown",
   "metadata": {},
   "source": [
    "# CN5 - Champ électrique dans un condensateur\n",
    "\n",
    "> **L'objectif de ce TD est déterminer l'allure du champ électrique dans un condensateur non infini.**\n",
    ">\n",
    ">\n",
    "> *Vous devez :*\n",
    "> - rédiger les questions théoriques (T1, T2...) sur une copie que vous rendrez à votre enseignant.\n",
    "> - exécuter les cellules de code déjà écrites sur ce document, et compléter celles correspondant aux questions \"informatique\" (Q1, Q2...).\n",
    "> - enregistrer votre Notebook au format : *CN5_votrenom_votreprenom.ipynb* et le transmettre à votre enseignant via cahier-de-prepa.\n",
    "\n",
    "\n",
    "## Présentation du problème \n",
    "On soumet un condensateur plan infini à une différence de potentiel $U$. L’armature négative du condensateur est au potentiel $-\\frac{U}{2}$, et l’armature positive est au potentiel $\\frac{U}{2}$. Une densité surfacique de charges $+\\sigma$ apparaît sur l’armature positive et une densité $-\\sigma$ sur l’électrode négative. \n",
    "\n",
    ">**Question T1 :** \n",
    ">\n",
    "> Faire un schéma. Déterminer le champ électrique existant dans le condensateur plan infini. Représenter le champ dans le condensateur. On attend une rédaction soignée pour ce genre de questions classiques.\n",
    "\t\n",
    ">**Question T2 :** \n",
    ">\n",
    "> En réalité, le condensateur plan n’est pas infini. A quelle condition le résultat précédent est-il toujours valable ?\n",
    "\t\n",
    "    \n",
    "    \n",
    "L’objectif de ce TP est de déterminer numériquement le champ $\\vec{E}$ et le potentiel $V$ dans un condensateur non infini, pour le comparer au résultat trouvé précédemment.\n",
    "\n",
    ">**Question T3 :** \n",
    ">\n",
    "> Quelle est l’équation différentielle vérifiée par $V$ au sein du condensateur ? De quoi a-t-on besoin, en plus de cette équation, pour déterminer $V(M)$ ?\n",
    "\n",
    ">**Question T4 :** \n",
    ">\n",
    "> Que devient l’équation précédente en 2D (on néglige les variations dans la profondeur du condensateur suivant z :  $V=V(x,y)$ ?\n",
    "\n",
    "Les modules nécessaires à l'étude seront les suivants :"
   ]
  },
  {
   "cell_type": "code",
   "execution_count": 2,
   "metadata": {},
   "outputs": [],
   "source": [
    "#Cellule à exécuter\n",
    "\n",
    "# Modules Python utiles\n",
    "\n",
    "# Chargement des modules necessaires\n",
    "\n",
    "import numpy as np  ## pour le calcul numerique\n",
    "import matplotlib.pyplot as plt   ## pour les traces"
   ]
  },
  {
   "cell_type": "markdown",
   "metadata": {},
   "source": [
    "## Géométrie du problème\n",
    "\n",
    "Nous simulons, en 2D, un condensateur plan mais pas infini. Nous le représentons ci-après.\n",
    "\n",
    "\n",
    "> **Question T1 :**\n",
    ">\n",
    "> Ecrire la loi de vitesse associée à la réaction et en déduire que l'équation différentielle vérifiée par l'avancement $\\xi$ de la réaction est :\n",
    "\n",
    "\n",
    "\n",
    "$$\n",
    "\\frac{d\\xi}{dt}+k \\xi=k n_0  \\mbox{ (1)}\n",
    "$$\n",
    "\n"
   ]
  },
  {
   "cell_type": "markdown",
   "metadata": {},
   "source": [
    ">**Question T2 :** \n",
    ">\n",
    "> Au vu des données et de l'expérience présentée, que peut-on supposer sur la température du mileu réactionnel au cours de l'expérience ? Expliquer alors pourquoi la résolution de l'équation (1) obtenue à la question précédente devient délicate.\n",
    "\n",
    "\n",
    "\n",
    ">**Question T3 :** \n",
    ">\n",
    "> Rappeler la relation (2) reliant la constante de vitesse $k$ à la Température.\n",
    "\n",
    "\n",
    "\n",
    ">**Question Q1 :** \n",
    ">\n",
    "> Compléter la fonction suivante qui retourne la valeur de $k$ en fonction de la température passée en argument."
   ]
  },
  {
   "cell_type": "code",
   "execution_count": null,
   "metadata": {},
   "outputs": [],
   "source": [
    "def k(T):\n",
    "    ### A COMPLETER\n",
    "    \n",
    "    "
   ]
  },
  {
   "cell_type": "markdown",
   "metadata": {},
   "source": [
    "## Etude thermodynamique \n",
    "\n",
    "Les paramètres qui évoluent au cours du temps et qui décrivent le problème sont donc :\n",
    "- la température $T(t)$\n",
    "- la constante de vitesse $k(T)$\n",
    "- l'avancement de la réaction $\\xi(t)$\n",
    "\n",
    "Nous disposons par ailleurs :\n",
    "- de la relation (1) qui relie $\\xi$ et $k$\n",
    "- de la relation (2) qui relie $k$ et $T$\n",
    "\n",
    "Il manque une troisième relation entre les paramètres pour décrire complètement le système. \n",
    "\n",
    ">**Question T4 :** \n",
    ">\n",
    ">Par une étude thermodynamique, en effectuant un bilan enthalpique entre l'instant initial et l'instant $t$, montrer que la relation (3) entre $T(t)$ et $\\xi(t)$ s'écrit :\n",
    ">$$T(t)=T_0 - \\frac{\\Delta_r H^0}{m c_e} \\xi(t) \\mbox{ (3)}$$\n",
    ">*On soignera particulièrement la rédaction de cette démonstration.*\n",
    "\n",
    ">**Question Q2 :**\n",
    ">\n",
    ">Compléter la fonction ci-dessous qui retourne la température à partir de la valeur de l'avancement passé en argument."
   ]
  },
  {
   "cell_type": "code",
   "execution_count": null,
   "metadata": {},
   "outputs": [],
   "source": [
    "def T(xi):\n",
    "    #### A COMPLETER"
   ]
  },
  {
   "cell_type": "markdown",
   "metadata": {},
   "source": [
    "## Dynamique du système\n",
    "\n",
    "Nous disposons désormais de toutes les relations pour étudier la dynamique du système. De proche en proche, nous allons calculer la température à tout instant, en suivant le schéma suivant :\n",
    "\n",
    "<img src=\"https://simon-laurette.github.io/CN4_Thermochimie/syno.png\" width=800></img>\n",
    "\n",
    ">**Question Q3 :** \n",
    ">\n",
    "> Compléter la fonction `f(T,xi)` suivante définie par :\n",
    "> $$ \\frac{d\\xi}{dt}=f(T,\\xi)$$\n",
    "\n"
   ]
  },
  {
   "cell_type": "code",
   "execution_count": null,
   "metadata": {},
   "outputs": [],
   "source": [
    "def f(T,xi):\n",
    "    ''' telle que dxi/dt=f(T,xi)'''\n",
    "    ### A COMPLETER\n"
   ]
  },
  {
   "cell_type": "markdown",
   "metadata": {},
   "source": [
    ">**Question Q4 :** \n",
    ">\n",
    "> Mettre en oeuvre la méthode décrite sur le schéma pour déterminer l'évolution de la température à tout instant. On complètera le code proposé ci-dessous. En déduire le tracé de la température au cours du temps."
   ]
  },
  {
   "cell_type": "code",
   "execution_count": null,
   "metadata": {},
   "outputs": [],
   "source": [
    "# On stocke les valeurs de t, T et xi à chaque instant dans 3 listes : l_t, l_T et l_xi\n",
    "# Ces listes sont initialisées ci-dessous.\n",
    "\n",
    "l_t=[0] # liste des temps en s\n",
    "l_T=[T0] # liste des T en K\n",
    "l_xi=[0] # liste des xi en mol\n",
    "\n",
    "# Paramètres de la simulation\n",
    "\n",
    "dt=1 # pas de calcul temporel\n",
    "Tf=10000 # instant final de calcul\n",
    "\n",
    "for i in range(int(Tf/dt)):\n",
    "    ### A COMPLETER\n",
    "    ###\n",
    "    ###\n",
    "    ###\n",
    "  \n",
    "\n",
    "\n",
    "\n",
    "\n",
    "\n",
    "plt.figure()\n",
    "plt.plot(np.array(l_t)/60,l_T)\n",
    "plt.xlabel(\"t en minutes\")\n",
    "plt.ylabel(\"T en °C\")\n",
    "plt.grid()\n",
    "plt.show()    \n",
    "    "
   ]
  },
  {
   "cell_type": "markdown",
   "metadata": {},
   "source": [
    "Pour information, vous devez, à l'aide de votre code, retrouver la courbe \"simu\" du tracé ci-dessous. On a ajouté également le résultat qui serait obtenu en résolution anaylitique si on considérait que la constante de vitesse $k$ était une constante indépendante de la température.\n",
    "\n",
    "\n",
    "<img src=\"https://simon-laurette.github.io/CN4_Thermochimie/result.png\" width=400></img>"
   ]
  }
 ],
 "metadata": {
  "kernelspec": {
   "display_name": "Python 3 (ipykernel)",
   "language": "python",
   "name": "python3"
  },
  "language_info": {
   "codemirror_mode": {
    "name": "ipython",
    "version": 3
   },
   "file_extension": ".py",
   "mimetype": "text/x-python",
   "name": "python",
   "nbconvert_exporter": "python",
   "pygments_lexer": "ipython3",
   "version": "3.10.9"
  },
  "toc": {
   "base_numbering": 1,
   "nav_menu": {},
   "number_sections": false,
   "sideBar": true,
   "skip_h1_title": false,
   "title_cell": "Table of Contents",
   "title_sidebar": "Contents",
   "toc_cell": false,
   "toc_position": {},
   "toc_section_display": true,
   "toc_window_display": false
  }
 },
 "nbformat": 4,
 "nbformat_minor": 2
}
