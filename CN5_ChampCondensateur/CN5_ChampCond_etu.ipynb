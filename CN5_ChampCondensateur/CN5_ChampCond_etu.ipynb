{
 "cells": [
  {
   "cell_type": "markdown",
   "metadata": {},
   "source": [
    "# CN5 - Champ électrique dans un condensateur\n",
    "\n",
    "> **L'objectif de ce TD est déterminer l'allure du champ électrique dans un condensateur non infini.**\n",
    ">\n",
    ">\n",
    "> *Vous devez :*\n",
    "> - rédiger les questions théoriques (T1, T2...) sur une copie que vous rendrez à votre enseignant.\n",
    "> - exécuter les cellules de code déjà écrites sur ce document, et compléter celles correspondant aux questions \"informatique\" (Q1, Q2...).\n",
    "> - enregistrer votre Notebook au format : *CN5_votrenom_votreprenom.ipynb* et le transmettre à votre enseignant via cahier-de-prepa.\n",
    "\n",
    "\n",
    "## Présentation du problème \n",
    "On soumet un condensateur plan infini à une différence de potentiel $U$. L’armature négative du condensateur est au potentiel $-\\frac{U}{2}$, et l’armature positive est au potentiel $\\frac{U}{2}$. Une densité surfacique de charges $+\\sigma$ apparaît sur l’armature positive et une densité $-\\sigma$ sur l’électrode négative. \n",
    "\n",
    ">**Question T1 :** \n",
    ">\n",
    "> Faire un schéma. Déterminer le champ électrique existant dans le condensateur plan infini. Représenter le champ dans le condensateur. On attend une rédaction soignée pour ce genre de questions classiques.\n",
    "\t\n",
    ">**Question T2 :** \n",
    ">\n",
    "> En réalité, le condensateur plan n’est pas infini. A quelle condition le résultat précédent est-il toujours valable ?\n",
    "\t\n",
    "    \n",
    "    \n",
    "L’objectif de ce TP est de déterminer numériquement le champ $\\vec{E}$ et le potentiel $V$ dans un condensateur non infini, pour le comparer au résultat trouvé précédemment.\n",
    "\n",
    ">**Question T3 :** \n",
    ">\n",
    "> Quelle est l’équation différentielle vérifiée par $V$ au sein du condensateur ? De quoi a-t-on besoin, en plus de cette équation, pour déterminer $V(M)$ ?\n",
    "\n",
    ">**Question T4 :** \n",
    ">\n",
    "> Que devient l’équation précédente en 2D (on néglige les variations dans la profondeur du condensateur suivant z :  $V=V(x,y)$ ?\n",
    "\n",
    "Les modules nécessaires à l'étude seront les suivants :"
   ]
  },
  {
   "cell_type": "code",
   "execution_count": 4,
   "metadata": {},
   "outputs": [],
   "source": [
    "#Cellule à exécuter\n",
    "\n",
    "# Modules Python utiles\n",
    "\n",
    "# Chargement des modules necessaires\n",
    "\n",
    "import numpy as np  ## pour le calcul numérique\n",
    "import matplotlib.pyplot as plt   ## pour les tracés"
   ]
  },
  {
   "cell_type": "markdown",
   "metadata": {},
   "source": [
    "## Géométrie du problème\n",
    "\n",
    "Nous simulons, en 2D, un condensateur plan mais pas infini. Nous le représentons ci-après.\n",
    "\n",
    "\n",
    "<img src=\"https://simon-laurette.github.io/CN5_ChampCondensateur/geo.png\" width=400></img>\n",
    "\n",
    "On appelle “Domaine $\\mathcal{D}$ ” l’ensemble des points M de l’espace où l’on va chercher à calculer le potentiel $V(M)$. En réalité, il y a un nombre infini de points $M$ dans le domaine : on ne peut pas calculer $V$ partout.\n",
    "\n",
    "On va définir un certain nombre de points, suffisamment proches, pour lesquels on va calculer $V$ : on va ainsi réaliser un maillage de l’espace / discrétiser l’espace.\n",
    "\n",
    ">**Question T5 :** \n",
    ">\n",
    "> Que signifie “suffisamment proches” ? Que risque-t-il de se passer si on définit trop peu de points dans le maillage ? ou trop de points ?\n",
    "\n",
    "Dans notre cas, on choisit des points $M$ espacés les uns des autres de $a=Δx=Δy=1μm$. Chaque point sera la case d’un tableau défini sur Python. On écrira alors dans cette case la valeur du potentiel. Toute la suite du programme a pour objectif de remplir ce tableau. Commençons par initialiser ce tableau avec les valeurs de potentiels que nous connaissons déjà. Ecrivons pour cela la fonction `remplissage_initial` :"
   ]
  },
  {
   "cell_type": "code",
   "execution_count": 6,
   "metadata": {},
   "outputs": [],
   "source": [
    "def remplissage_initial(U):\n",
    "    nl=160\n",
    "    nc=120\n",
    "    V=np.zeros((nl,nc))  \n",
    "    for i in range(60,100):\n",
    "        V[i,50]=-U/2\n",
    "        V[i,70]=U/2\n",
    "    return V"
   ]
  },
  {
   "cell_type": "markdown",
   "metadata": {},
   "source": [
    ">**Question T6 :** \n",
    ">\n",
    "> Quelle est la taille du domaine $D$ ? Quelle est la distance entre les électrodes ? Quelle est la dimension verticale des électrodes ? \n",
    "\n",
    "\n",
    ">**Question Q1 :** \n",
    ">\n",
    "> A l'aide de la fonction `imshow` de `pyplot`, observer la matrice créée par la fonction `remplissage_intial`.\n"
   ]
  },
  {
   "cell_type": "code",
   "execution_count": 7,
   "metadata": {},
   "outputs": [],
   "source": [
    "V=remplissage_initial(20)\n",
    "### A COMPLETER\n"
   ]
  },
  {
   "cell_type": "markdown",
   "metadata": {},
   "source": [
    "## Remplissage du tableau des potentiels\n",
    "\n",
    "Il nous faut maintenant écrire une fonction qui va remplir le tableau en écrivant $V$ dans chaque case inconnue, et donc en chaque point $M$ du domaine. Pour cela, il nous faut résoudre l’équation de Laplace :\n",
    "\n",
    "$$\\frac{\\partial^2 V}{\\partial x^2}+\\frac{\\partial^2 V}{\\partial y^2}=0$$\n",
    "\n",
    "\n",
    "Dans notre cas, la fonction $V$ n’est pas définie pour x et y continus, mais discrétisés :\n",
    "\n",
    "<img src=\"https://simon-laurette.github.io/CN5_ChampCondensateur/dis.png\" width=400></img>\n",
    "\n",
    "Il va donc falloir approximer $\\frac{\\partial^2 V}{\\partial x^2}$ et $\\frac{\\partial^2 V}{\\partial y^2}$ pour résoudre l’équation précédent dans notre cas.\n",
    "\n",
    ">**Question T6 :** \n",
    ">\n",
    "> Soit une fonction f. En écrivant la formule de Taylor à l’ordre 2 pour f(x+a) et f(x-a), démontrer que :\n",
    "$$f''(x)≃\\frac{1}{a^2}  [f(x+a)+f(x-a)-2 f(x)]$$\n",
    "\n",
    ">**Question T7 :** \n",
    ">\n",
    "> En déduire l’expression de $\\frac{\\partial^2 V}{\\partial x^2}$ en fonction de `a`, `V[i,j]`, `V[i,j+1]`,  `V[i,j-1]`. De même, en déduire l’expression de $\\frac{\\partial^2 V}{\\partial y^2}$  en fonction de `a`, `V[i,j]`, `V[i+1,j]`, `V[i-1,j]`.\n",
    "\n",
    ">**Question T8 :** \n",
    ">\n",
    "> Montrer que l’équation de Laplace devient alors :\n",
    "`V[i+1,j]+V[i-1,j]+V[i,j+1]+V[i,j-1]-4V[i,j]=0`\n",
    "\n",
    "Ainsi, lorsque l’équation est résolue, on a en chaque point du maillage (hors armatures) :\n",
    "\n",
    "```python\n",
    "V[i,j]=1/4 (V[i+1,j]+V[i-1,j]+V[i,j+1]+V[i,j-1])\n",
    "```\n",
    "\n",
    "Ce qui n’est pas le cas dans la matrice initialisée par la fonction `remplissage_initial`. Pour y parvenir, on va procéder par itération avec la méthode suivante :\n",
    "\n",
    "<img src=\"https://simon-laurette.github.io/CN5_ChampCondensateur/ite.png\" width=400></img>\n",
    "\n",
    ">**Question Q2 :** \n",
    ">\n",
    "> Ecrire une fonction `iteration` qui prend pour argument le tableau `V` et donne, en sortie, le tableau `V` modifié comme indiqué sur le schéma. Il ne faudra toutefois pas modifier la valeur de $V$ sur les armatures du condensateur. De plus, la formule d’itération ne fonctionne pas sur les frontières du domaine D. Ces frontières étant suffisamment loin du condensateur, on supposera que $V=0$ sur ces frontières : c’est la condition aux limites de notre problème.\n"
   ]
  },
  {
   "cell_type": "code",
   "execution_count": null,
   "metadata": {},
   "outputs": [],
   "source": [
    "#### A COMPLETER"
   ]
  },
  {
   "cell_type": "markdown",
   "metadata": {},
   "source": [
    ">**Question Q3 :** \n",
    ">\n",
    "> Afficher le tableau modifié suite à l'application d'une fois la fonction `iteration`.\n",
    "\n"
   ]
  },
  {
   "cell_type": "code",
   "execution_count": null,
   "metadata": {},
   "outputs": [],
   "source": [
    "### A COMPLETER\n"
   ]
  },
  {
   "cell_type": "markdown",
   "metadata": {},
   "source": [
    ">**Question Q4 :** \n",
    ">\n",
    "> Appliquer $N=1000$ fois l’itération précédente et en déduire la matrice `V` solution de l’équation de Laplace."
   ]
  },
  {
   "cell_type": "code",
   "execution_count": null,
   "metadata": {},
   "outputs": [],
   "source": [
    "### A COMPLETER\n"
   ]
  },
  {
   "cell_type": "markdown",
   "metadata": {},
   "source": [
    ">**Question Q5 :** \n",
    ">\n",
    "> Tracer les équipotentielles à l’aide de `plt.contour`."
   ]
  },
  {
   "cell_type": "code",
   "execution_count": null,
   "metadata": {},
   "outputs": [],
   "source": [
    "### A COMPLETER"
   ]
  },
  {
   "cell_type": "markdown",
   "metadata": {},
   "source": [
    " ## Détermination du champ électrique\n",
    " \n",
    " On va maintenant déterminer le champ électrique $\\vec{E}=-\\overrightarrow{\\text{grad}}(V)$.\n",
    " \n",
    " >**Question Q6 :** \n",
    "Ecrire une fonction `Ex,Ey=champ_elec(V)` qui retournera deux tableaux `Ex` et `Ey`, correpondant aux composantes de $\\vec{E}$ suivant $x$ et $y$ en chaque point $M$ du domaine.\n"
   ]
  },
  {
   "cell_type": "code",
   "execution_count": null,
   "metadata": {},
   "outputs": [],
   "source": [
    "### A COMPLETER"
   ]
  },
  {
   "cell_type": "markdown",
   "metadata": {},
   "source": [
    ">**Question Q7 :** \n",
    "Exécuter et commenter le code suivant pour expliquer le rôle de chaque ligne"
   ]
  },
  {
   "cell_type": "code",
   "execution_count": null,
   "metadata": {},
   "outputs": [],
   "source": [
    "champ_max=(np.max(Ex)**2+np.max(Ey)**2)**0.5\n",
    "lw=1/champ_max*(Ex**2+Ey**2)**0.5\n",
    "plt.streamplot(np.linspace(0,nc-1,nc), np.linspace(0,nl-1,nl), Ex, Ey, linewidth=10*lw, density=2)"
   ]
  },
  {
   "cell_type": "markdown",
   "metadata": {},
   "source": [
    "On doit obtenir une allure de ce type :\n",
    "\n",
    "<img src=\"https://simon-laurette.github.io/CN5_ChampCondensateur/all.png\" width=400></img>"
   ]
  },
  {
   "cell_type": "markdown",
   "metadata": {},
   "source": [
    ">**Question Q8 :** \n",
    "Commenter en comparaison au résultat obtenu avec le théorème de Gauss pour un condensateur plan infini."
   ]
  }
 ],
 "metadata": {
  "kernelspec": {
   "display_name": "Python 3 (ipykernel)",
   "language": "python",
   "name": "python3"
  },
  "language_info": {
   "codemirror_mode": {
    "name": "ipython",
    "version": 3
   },
   "file_extension": ".py",
   "mimetype": "text/x-python",
   "name": "python",
   "nbconvert_exporter": "python",
   "pygments_lexer": "ipython3",
   "version": "3.10.9"
  },
  "toc": {
   "base_numbering": 1,
   "nav_menu": {},
   "number_sections": false,
   "sideBar": true,
   "skip_h1_title": false,
   "title_cell": "Table of Contents",
   "title_sidebar": "Contents",
   "toc_cell": false,
   "toc_position": {},
   "toc_section_display": true,
   "toc_window_display": false
  }
 },
 "nbformat": 4,
 "nbformat_minor": 2
}
