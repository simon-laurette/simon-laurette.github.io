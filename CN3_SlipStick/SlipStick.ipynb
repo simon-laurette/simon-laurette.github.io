{
 "cells": [
  {
   "cell_type": "markdown",
   "metadata": {
    "toc": true
   },
   "source": [
    "<h1><span class=\"tocSkip\"></span></h1>\n",
    "<div class=\"toc\"><ul class=\"toc-item\"><li><span><a href=\"#Slip-Stick-:-Modélisation-d'une-corde-de-violon\" data-toc-modified-id=\"Slip-Stick-:-Modélisation-d'une-corde-de-violon-1\">Slip-Stick : Modélisation d'une corde de violon</a></span><ul class=\"toc-item\"><li><span><a href=\"#Modélisation\" data-toc-modified-id=\"Modélisation-1.1\">Modélisation</a></span></li><li><span><a href=\"#Résolution-numérique\" data-toc-modified-id=\"Résolution-numérique-1.2\">Résolution numérique</a></span><ul class=\"toc-item\"><li><span><a href=\"#Conditions-initiales\" data-toc-modified-id=\"Conditions-initiales-1.2.1\">Conditions initiales</a></span></li><li><span><a href=\"#Détermination-de-l'état-du-système\" data-toc-modified-id=\"Détermination-de-l'état-du-système-1.2.2\">Détermination de l'état du système</a></span></li><li><span><a href=\"#Résolution-en-cas-d'adhérence\" data-toc-modified-id=\"Résolution-en-cas-d'adhérence-1.2.3\">Résolution en cas d'adhérence</a></span></li><li><span><a href=\"#Résolution-en-cas-de-glissement\" data-toc-modified-id=\"Résolution-en-cas-de-glissement-1.2.4\">Résolution en cas de glissement</a></span></li><li><span><a href=\"#Résolution-entière\" data-toc-modified-id=\"Résolution-entière-1.2.5\">Résolution entière</a></span></li><li><span><a href=\"#Analyse-des-résultats\" data-toc-modified-id=\"Analyse-des-résultats-1.2.6\">Analyse des résultats</a></span></li></ul></li><li><span><a href=\"#Bibliographie\" data-toc-modified-id=\"Bibliographie-1.3\">Bibliographie</a></span></li></ul></li></ul></div>"
   ]
  },
  {
   "cell_type": "markdown",
   "metadata": {},
   "source": [
    "# Slip-Stick : Modélisation d'une corde de violon\n",
    "\n",
    "\n",
    "Le mouvement d'une corde de violon déplacée par un archet fait apparaître une alternance de phase d'adhérence et de glissement (\"stick-slip\") :\n",
    "\n",
    "\n",
    "<a href=https://simon-laurette.github.io/CN3_SlipStick/StickSlip.mp4><img src=\"https://simon-laurette.github.io/CN3_SlipStick/video.png\" width=\"400\" height=\"200\"></a>\n",
    "\n",
    "Nous allons étudier une situation expérimentale qui modélise cette situation :\n",
    "\n",
    "<img src=\"https://simon-laurette.github.io/CN3_SlipStick/situation.png\" width=\"400\" height=\"200\">\n",
    "\n",
    "\n",
    "Le solide S1 est entraîné à une vitesse constante $\\vec{v}_0$ par un moteur. Le solide S2 frotte sur S1 et est retenu à gauche par un dynamomètre qui est ici représenté par un ressort de raideur $k$ et de longueur à vide $l_0$.\n",
    "\n",
    "On appelle $f_s$ le coefficient de frottement statique entre les deux solides, et $f_d$ le coefficient de frottement dynamique. La masse de S2 est notée $m$.\n",
    "\n",
    "Ce mouvement de stick-slip peut aussi modéliser le crissement d'une craie sur un tableau (ou d'une chaise sur le sol). La hauteur du son émis est alors directement liée à la fréquence du phénomène de stick-slip.\n",
    "\n",
    "*L'objectif de ce TP est de comprendre la situation étudiée et de prédire la fréquence du phénomène de stick-slip en fonction des différents paramètres de l'expérience.*\n",
    "\n",
    "\n"
   ]
  },
  {
   "cell_type": "markdown",
   "metadata": {},
   "source": [
    "## Modélisation\n",
    "\n",
    "**Question 1**\n",
    "> Dans la modélisation, quel solide (S1 ou S2) joue le rôle de la corde ? de l'archet ? \n",
    "> Qui joue le rôle du ressort dans la situation réelle ?\n",
    "> Quelle est la différence entre la situation réelle de la vidéo et la situation modélisée ?"
   ]
  },
  {
   "cell_type": "markdown",
   "metadata": {},
   "source": [
    "> ***Corrigé***\n",
    ">\n",
    "> *S1 correspond à l'archet, S2 à la corde. C'est la force de rappel horizontale de la corde (due à ses attaches à ses extrémités, et à son élasticité \"intrinsèque\") qui est modélisée par le ressort. Dans la situation réelle, $\\vec{v}_0$ est vers la gauche, alors qu'il est vers la droite dans notre modélisation.*"
   ]
  },
  {
   "cell_type": "markdown",
   "metadata": {},
   "source": [
    "**Question 2**\n",
    "> Représenter sur le schéma les différentes forces s'appliquant sur S2."
   ]
  },
  {
   "cell_type": "markdown",
   "metadata": {},
   "source": [
    "**Question 3**\n",
    "> Lorsque S1 est en situation d'adhérence, que vaut $v= \\frac{dx}{dt}$ ? A quelle condition sur $x$ sort-on de l'adhérence et rentre-t-on en glissement ?"
   ]
  },
  {
   "cell_type": "markdown",
   "metadata": {},
   "source": [
    "> ***Corrigé***\n",
    ">\n",
    "> *En situation d'adhérence :\n",
    "$$ \\frac{dx}{dt}=v_0$$ car la vitesse de glissement entre S1 et S2 est nulle. On quitte l'adhérence lorsque la norme de la composante tangentielle de la réaction de S1 sur S2 vaut :\n",
    "$$T=f_s N$$\n",
    "Or, la seconde loi de Newton appliquée sur S1 dans le référentiel terrestre galiléen donne : \n",
    "$$N=mg$$\n",
    "$$T=kx$$\n",
    "D'où, on sort de l'adhérence quand \n",
    "$$x=\\frac{f_s mg}{k}$$*"
   ]
  },
  {
   "cell_type": "markdown",
   "metadata": {},
   "source": [
    "**Question 4**\n",
    "> Lorsque S1 est en situation de glissement, quelle est l'équation différentielle vérifiée par $x$ ? A quelle condition sur $v=\\frac{dx}{dt}$ (que l'on exprimera d'abord sous forme d'une égalité, puis d'une inégalité) va-t-on sortir du glissement ?"
   ]
  },
  {
   "cell_type": "markdown",
   "metadata": {},
   "source": [
    "> ***Corrigé***\n",
    ">\n",
    "> *En situation de glissement :\n",
    ">$$ T= f_d N$$ \n",
    ">L'application de la seconde loi de Newton donne désormais :\n",
    "$$ m \\frac{d^2 x }{dt^2 }=-kx + f_d mg $$\n",
    "On quittera le glissement lors de l'annulation de la vitesse de glissement, soit quand :\n",
    "$$v=v_0$$\n",
    "Dans notre cas, lors du glissement, on a $v<v_0$, donc on pourra considérer qu'il y a adhérence dès que $v$ devient supérieure à $v_0$ : \n",
    "$$v>v_0$$ devient la condition de sortie du glissement (une inégalité étant plus pratique à implémenter qu'un test d'égalité entre réels).*\n",
    "\n"
   ]
  },
  {
   "cell_type": "markdown",
   "metadata": {},
   "source": [
    "## Résolution numérique\n",
    "\n",
    "On s'aperçoit ainsi que selon l'état (adhérence ou glissement) du système, l'équation à résoudre pour déterminer l'évolution de $x(t)$ diffère : comme ces états vont se succéder, il faudra à chaque fois résoudre les équations, en prenant en compte les continuités de $x$ et $\\frac{dx}{dt}$ pour raccorder les solutions. Ce travail, s'il est possible, est toutefois laborieux... et la résolution numérique va nous permettre ici de visualiser rapidement le mouvement du solide $S1$.\n",
    "\n",
    "### Conditions initiales\n",
    "\n",
    "Dans un premier temps, on va exécuter le code ci-dessous, qui importe les modules Python nécessaires. Les valeurs numériques des différents paramètres du problème sont rentrées dans les unités du système international."
   ]
  },
  {
   "cell_type": "code",
   "execution_count": 1,
   "metadata": {},
   "outputs": [],
   "source": [
    "import numpy as np\n",
    "import matplotlib.pyplot as plt\n",
    "from math import sqrt\n",
    "\n",
    "v0=0.1 ## 0.01\n",
    "fs=0.2\n",
    "fd=0.1\n",
    "\n",
    "k=20 #20 # il faudrait le déterminer au préalable\n",
    "\n",
    "m=1  #1\n",
    "g=9.81\n",
    "\n",
    "\n",
    "t=[0] # t correspond à la liste des instants de calcul de la position x et de la vitesse xp (pour \"xpoint\")\n",
    "tf=20 #100 instant final de l'étude\n",
    "dt=0.001 #0.001 pas de calcul"
   ]
  },
  {
   "cell_type": "markdown",
   "metadata": {},
   "source": [
    "**Question 5**\n",
    "> Rappeler le compromis à faire sur le choix de $dt$ pour qu'il soit adapté à la résolution numérique."
   ]
  },
  {
   "cell_type": "markdown",
   "metadata": {},
   "source": [
    "> ***Corrigé***\n",
    ">\n",
    "> Le choix de $dt$ résulte dans le compromis entre précision de l'étude et temps de résolution. Il faut prendre en pratique $dt$ petit devant le temps caractéristique de la dynamique du système.\n"
   ]
  },
  {
   "cell_type": "markdown",
   "metadata": {},
   "source": [
    "On a ensuite besoin d'une variable ```etat``` qui indiquera l'état dans lequel se situe S2 :\n",
    "- l'état d'adhérence sera caractérisé par ```etat=0```\n",
    "- l'état de glissement sera caractérisé par ```etat=1```\n",
    "\n",
    "Par ailleurs, on va créer deux listes : ```l_x```et ```l_xp``` correspondant aux valeurs de $x$ et $\\frac{dx}{dt}$ évalués aux instants indiqués dans la liste ```t```. On aura donc :\n",
    "$$\\mbox{l_x[i]}=x\\left(t=t[i]\\right)$$\n",
    "$$\\mbox{l_xp[i]}=\\frac{dx}{dt}(t=t[i])$$"
   ]
  },
  {
   "cell_type": "markdown",
   "metadata": {},
   "source": [
    "**Question 6**\n",
    "> Compléter le code suivant pour définir l'état initial, correspondant au solide S1, placé sur le tapis, adhérent, en x=0."
   ]
  },
  {
   "cell_type": "code",
   "execution_count": null,
   "metadata": {},
   "outputs": [],
   "source": [
    "etat=###   \n",
    "\n",
    "l_x=[0]\n",
    "l_xp=####  "
   ]
  },
  {
   "cell_type": "code",
   "execution_count": 2,
   "metadata": {},
   "outputs": [],
   "source": [
    "#corrigé \n",
    "etat=0\n",
    "l_x=[0]\n",
    "l_xp=[v0]"
   ]
  },
  {
   "cell_type": "markdown",
   "metadata": {},
   "source": [
    "### Détermination de l'état du système\n",
    "\n",
    "Le problème à résoudre est donc :\n",
    "\n",
    "<img src=\"https://simon-laurette.github.io/CN3_SlipStick/algo2.png\" width=\"500\" height=\"250\">\n",
    "\n",
    "Ainsi, à chaque nouvelle estimation de $x$ et $\\frac{dx}{dt}$, il faut vérifier si le système reste dans le même état ou s'il change d'état.\n",
    "\n",
    "On définit alors la fonction ```state(x,xp,etat)``` qui retourne la valeur actualisée de ```etat``` à partir de la position ```x``` et de la vitesse ```xp```, nouvellement calculées, de S2.\n",
    "\n",
    "**Question 7**\n",
    "> Compléter le code suivant qui définit la fonction ```state```."
   ]
  },
  {
   "cell_type": "code",
   "execution_count": null,
   "metadata": {},
   "outputs": [],
   "source": [
    "def state(x,xp,etat):\n",
    "        if etat==1 and xp>v0:\n",
    "            return ####\n",
    "        elif ####### and ##### :\n",
    "            return 1\n",
    "        else : #########"
   ]
  },
  {
   "cell_type": "code",
   "execution_count": 3,
   "metadata": {},
   "outputs": [],
   "source": [
    "# corrigé \n",
    "\n",
    "def state(x,xp,etat):\n",
    "        if etat==1 and xp>v0:\n",
    "            return 0\n",
    "        elif etat==0 and x>fs*m*g/k :\n",
    "            return 1\n",
    "        else : return etat"
   ]
  },
  {
   "cell_type": "markdown",
   "metadata": {},
   "source": [
    "### Résolution en cas d'adhérence\n",
    "\n",
    "Lorque S2 est en état d'adhérence, il faut résoudre :\n",
    "$$\\frac{dx}{dt}=v_0$$\n",
    "\n",
    "**Question 8**\n",
    "> Discrétiser cette équation pour donner la relation entre ```l_x[i+1]```, ```l_x[i]``` et les autres paramètres du problème, lors de l'état d'adhérence."
   ]
  },
  {
   "cell_type": "markdown",
   "metadata": {},
   "source": [
    "> ***Corrigé***\n",
    ">\n",
    "> *$$\\mbox{l_x[i+1]}=\\mbox{l_x[i]}+dt\\times v_0$$*"
   ]
  },
  {
   "cell_type": "markdown",
   "metadata": {},
   "source": [
    "### Résolution en cas de glissement\n",
    "\n",
    "Lors du glissement de S2, il faut résoudre l'équation d'ordre 2 :\n",
    "\n",
    "$$m \\frac{d^2x}{dt^2}=- kx+f_d mg$$\n",
    "\n",
    "Pour résoudre ce type d'équation avec la méthode d'Euler, on va se ramener à une équation différentielle d'ordre 1, en posant le vecteur :\n",
    "$$Y= \\begin{bmatrix} x \\\\ \\dot{x}\\end{bmatrix}$$\n",
    "\n",
    "**Question 9**\n",
    "> Montrer que $Y$ suit une équation différentielle d'ordre 1 de type :\n",
    "> $$\\dot{Y} = F(Y)$$ \n",
    "> où $ F : \\mathbb{R}^2 \\rightarrow \\mathbb{R}^2$ est une fonction dont on donnera l'expression $F(u,v)$ et dont l'on complètera la définition dans le code ci-dessous."
   ]
  },
  {
   "cell_type": "markdown",
   "metadata": {},
   "source": [
    ">***Corrigé***\n",
    ">\n",
    ">*$$\\dot{Y}= \\begin{bmatrix} \\dot{x} \\\\ \\ddot{x}\\end{bmatrix}=\\begin{bmatrix} \\dot{x} \\\\ -\\frac{k}{m} x + f_d g\\end{bmatrix} =\\begin{bmatrix} Y[1] \\\\ -\\frac{k}{m}Y[0] + f_d g\\end{bmatrix}=F(Y)$$*\n",
    ">\n",
    ">*avec :\n",
    ">$$F : (u,v) \\longmapsto \\left(v,-\\frac{k}{m}u+f_d g\\right)$$*\n",
    "\n"
   ]
  },
  {
   "cell_type": "code",
   "execution_count": null,
   "metadata": {},
   "outputs": [],
   "source": [
    "def F(u,v):\n",
    "    return ###"
   ]
  },
  {
   "cell_type": "code",
   "execution_count": 4,
   "metadata": {},
   "outputs": [],
   "source": [
    "#corrigé \n",
    "def F(u,v):\n",
    "    return v,-k/m*u+fd*g"
   ]
  },
  {
   "cell_type": "markdown",
   "metadata": {},
   "source": [
    "### Résolution entière\n",
    "\n",
    "**Question 10**\n",
    "> Compléter le code ci-dessous pour effectuer la résolution du problème et l'affichage de la position et la vitesse au cours du temps. A quoi correspondent les trais horizontaux présents dans les deux tracés ?"
   ]
  },
  {
   "cell_type": "code",
   "execution_count": null,
   "metadata": {},
   "outputs": [],
   "source": [
    "l_etat=[etat]\n",
    "\n",
    "while t[-1]<tf :    \n",
    "    etat=state(l_x[-1],l_xp[-1],etat)\n",
    "    l_etat.append(etat)\n",
    "    if etat==0 :\n",
    "        l_x.append(###)\n",
    "        l_xp.append(###)\n",
    "    else :\n",
    "        a,b=F(l_x[-1],l_xp[-1])\n",
    "        l_x.append(###)\n",
    "        l_xp.append(###)\n",
    "    \n",
    "    t.append(###)\n",
    "        \n",
    "plt.close()\n",
    "plt.figure()\n",
    "plt.subplot(311)\n",
    "plt.plot(t,l_x,t,[fs*m*g/k]*len(t))\n",
    "plt.xlabel(\"Temps en secondes\")\n",
    "plt.ylabel(\"Position x en m\")    \n",
    "plt.grid()\n",
    "plt.subplot(312)\n",
    "plt.plot(t,l_xp,t,[v0]*len(t))\n",
    "plt.xlabel(\"Temps en secondes\")\n",
    "plt.ylabel(\"Vitesse de S2 en m/s\")\n",
    "plt.grid()\n",
    "plt.subplot(313)\n",
    "plt.plot(t,l_etat)\n",
    "plt.xlabel(\"Temps en secondes\")\n",
    "plt.ylabel(\"Etat de S2\")\n",
    "\n",
    "plt.grid()\n",
    "plt.show()"
   ]
  },
  {
   "cell_type": "code",
   "execution_count": 5,
   "metadata": {
    "scrolled": false
   },
   "outputs": [
    {
     "data": {
      "image/png": "[encoded data removed]",
      "text/plain": [
       "<Figure size 432x288 with 3 Axes>"
      ]
     },
     "metadata": {
      "needs_background": "light"
     },
     "output_type": "display_data"
    }
   ],
   "source": [
    "# corrigé\n",
    "l_etat=[etat]\n",
    "\n",
    "while t[-1]<tf :    \n",
    "    etat=state(l_x[-1],l_xp[-1],etat)\n",
    "    l_etat.append(etat)\n",
    "    if etat==0 :\n",
    "        l_x.append(l_x[-1]+dt*v0)\n",
    "        l_xp.append(v0)\n",
    "    else :\n",
    "        a,b=F(l_x[-1],l_xp[-1])\n",
    "        l_x.append(l_x[-1]+dt*a)\n",
    "        l_xp.append(l_xp[-1]+dt*b)\n",
    "    \n",
    "    t.append(t[-1]+dt)\n",
    "\n",
    "\n",
    "plt.close()\n",
    "plt.figure()\n",
    "plt.subplot(311)\n",
    "plt.plot(t,l_x,t,[fs*m*g/k]*len(t))\n",
    "plt.xlabel(\"Temps en secondes\")\n",
    "plt.ylabel(\"Position x en m\")    \n",
    "plt.grid()\n",
    "plt.subplot(312)\n",
    "plt.plot(t,l_xp,t,[v0]*len(t))\n",
    "plt.xlabel(\"Temps en secondes\")\n",
    "plt.ylabel(\"Vitesse de S2 en m/s\")\n",
    "plt.grid()\n",
    "plt.subplot(313)\n",
    "plt.plot(t,l_etat)\n",
    "plt.xlabel(\"Temps en secondes\")\n",
    "plt.ylabel(\"Etat de S2\")\n",
    "\n",
    "plt.grid()\n",
    "plt.show()"
   ]
  },
  {
   "cell_type": "markdown",
   "metadata": {},
   "source": [
    "### Analyse des résultats\n",
    "\n",
    "A l'aide du code suivant, on peut déterminer le spectre du signal $x(t)$.\n",
    "\n",
    "**Question 11**\n",
    "> Exécuter le code et expliquer avec précision ce qu'il fait.\n"
   ]
  },
  {
   "cell_type": "code",
   "execution_count": 6,
   "metadata": {},
   "outputs": [
    {
     "data": {
      "image/png": "[encoded data removed]",
      "text/plain": [
       "<Figure size 432x288 with 1 Axes>"
      ]
     },
     "metadata": {
      "needs_background": "light"
     },
     "output_type": "display_data"
    }
   ],
   "source": [
    "t_x=np.array(l_x)\n",
    "n=t_x.size\n",
    "\n",
    "spectre=np.fft.fft(t_x) # calcul du spectre\n",
    "freq=np.fft.fftfreq(n,d=dt) # création de la liste des fréquences où est calculé le spectre.\n",
    "\n",
    "plt.close()\n",
    "plt.figure()\n",
    "plt.plot(freq[0:int(len(freq)/100)],np.abs(spectre[0:int(len(freq)/100)]))\n",
    "# on réduit la liste des fréquences pour la visualisation\n",
    "plt.xlabel(\"Fréquence en Hz\")\n",
    "plt.ylabel(\"Spectre en Amplitude\")\n",
    "plt.grid()\n",
    "plt.show()"
   ]
  },
  {
   "cell_type": "code",
   "execution_count": 7,
   "metadata": {
    "scrolled": true
   },
   "outputs": [
    {
     "name": "stdout",
     "output_type": "stream",
     "text": [
      "La fréquence du slipstick est 0.54 Hz\n"
     ]
    }
   ],
   "source": [
    "max_spec=np.max(np.abs(spectre[1:int(len(freq)/100)]))\n",
    "for i in range(1,int(len(freq)/100)):\n",
    "    if np.abs(spectre)[i]==max_spec:\n",
    "        imax=i\n",
    "            \n",
    "f=freq[imax]\n",
    "print(\"La fréquence du slipstick est\",str(f)[0:4],\"Hz\")"
   ]
  },
  {
   "cell_type": "markdown",
   "metadata": {},
   "source": [
    "## Bibliographie\n",
    "\n",
    "Pour approfondir la théorie derrière le stick-slip, ainsi que les méthodes de résolution \"à la main\", c'est-à-dire sans recours à la résolution numérique, on pourra consulter :\n",
    "\n",
    "* *Exercice EE02 : Stick-Slip* - Feuille de TD M2\n",
    "* *Cours 1 : crissement de la craie, mirages, cirage de bottes, phares et brouillard,...* - Claude Loverdo - http://www.lix.polytechnique.fr/Labo/Vincent.Pilaud/enseignement/cours_premiere/physique1.pdf\n",
    "\n",
    "Au vu des simulations ici menées, j'émets toutefois un doute sur la validité des AN proposées dans ces références (notamment le \"Cours 1...\"), car elles ne semblent pas toujours compatibles avec l'hypothèse, quasi systématiquement faite dans les résolutions analytiques, que la phase de glissement est très courte devant la phase d'adhérence.\n"
   ]
  }
 ],
 "metadata": {
  "kernelspec": {
   "display_name": "Python 3",
   "language": "python",
   "name": "python3"
  },
  "language_info": {
   "codemirror_mode": {
    "name": "ipython",
    "version": 3
   },
   "file_extension": ".py",
   "mimetype": "text/x-python",
   "name": "python",
   "nbconvert_exporter": "python",
   "pygments_lexer": "ipython3",
   "version": "3.9.1"
  },
  "toc": {
   "base_numbering": 1,
   "nav_menu": {},
   "number_sections": false,
   "sideBar": true,
   "skip_h1_title": false,
   "title_cell": "",
   "title_sidebar": "Contents",
   "toc_cell": true,
   "toc_position": {},
   "toc_section_display": true,
   "toc_window_display": true
  }
 },
 "nbformat": 4,
 "nbformat_minor": 2
}
