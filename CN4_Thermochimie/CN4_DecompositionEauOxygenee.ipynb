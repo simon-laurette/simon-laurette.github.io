{
 "cells": [
  {
   "cell_type": "markdown",
   "metadata": {},
   "source": [
    "# CN4 - Décomposition de l'eau oxygénée\n",
    "\n",
    "> **L'objectif de ce TD est déterminer l'évolution de la température lors de la décomposition de l'eau oxygénée.**\n",
    ">\n",
    ">\n",
    "> *Vous devez :*\n",
    "> - rédiger les questions théoriques (T1, T2...) sur une copie que vous rendrez à votre enseignant.\n",
    "> - exécuter les cellules de code déjà écrites sur ce document, et compléter celles correspondant aux questions \"informatique\" (Q1, Q2...).\n",
    "> - enregistrer votre Notebook au format : *CN4_votrenom_votreprenom.ipynb* et le transmettre à votre enseignant via cahier-de-prepa.\n",
    "\n",
    "\n",
    "On s'intéresse ici à la décomposition spontanée de l'eau oxygénée, en solution aqueuse :\n",
    "\n",
    "$$H_2O_{2(aq)}=H_2O_{(l)}+\\frac{1}{2} O_{2(g)}$$\n",
    "\n",
    "Cette équation possède une cinétique d'ordre 1 par rapport au peroxyde d'hydrogène.\n",
    "\n",
    "Initialement, on place $n_0$ de peroxyde d'hydrogène $H_2O_2$ dans une masse $m$ d'eau de volume $V$. Le tout est placé dans un calorimètre, de capacité thermique supposée nulle, à la température initiale de $T_0=298K$.\n",
    "\n",
    "L'objectif de ce TP est de coupler les descriptions cinétiques et thermodynamiques de cette décomposition afin de prédire l'évolution de la température du système au cours du temps.\n",
    "\n",
    "On utilisera par la suite les données et modules Python suivants :"
   ]
  },
  {
   "cell_type": "code",
   "execution_count": 8,
   "metadata": {},
   "outputs": [],
   "source": [
    "#Cellule à exécuter\n",
    "\n",
    "# Modules Python utiles\n",
    "\n",
    "import numpy as np\n",
    "import matplotlib.pyplot as plt\n",
    "from math import exp\n",
    "\n",
    "# Données, toutes en unités du système international\n",
    "\n",
    "R=8.314 # Constante des gaz parfaits\n",
    "drH0=-94.6e3 # Enthalpie standard de la réaction\n",
    "Ea=72.4e3 # Energie d'activation\n",
    "A=1.3e11/60 # Facteur cinétique pré-exponentiel\n",
    "ce=4.18e3 # Capacité thermique massique de l'eau liquide\n",
    "m=0.2 # Masse d'eau\n",
    "T0=298 # Température initiale\n",
    "n0=0.3\n",
    "rho=1000 # Masse volumique\n",
    "V=m/rho # Volume de solution (en m3)\n",
    "c0=n0/V # Concentration initiale de peroxyde d'hydrogène (en mol/m3)"
   ]
  },
  {
   "cell_type": "markdown",
   "metadata": {},
   "source": [
    "## Etude cinétique\n",
    "\n",
    "\n",
    "Connaître l'évolution de la température au cours du temps nécessite tout d'abord d'étudier la cinétique de la réaction.\n",
    "\n",
    "> **Question T1 :**\n",
    ">\n",
    "> Ecrire la loi de vitesse associée à la réaction et en déduire que l'équation différentielle vérifiée par l'avancement $\\xi$ de la réaction est :\n",
    "\n",
    "\n",
    "\n",
    "$$\n",
    "\\frac{d\\xi}{dt}+k \\xi=k n_0  \\mbox{ (1)}\n",
    "$$\n",
    "\n",
    "\n",
    "> ***Corrigé :***\n",
    ">\n",
    "> *On pose $c=[H_2O_2]$.*\n",
    ">\n",
    "> *$v=kc$ et $v=-\\frac{dc}{dt}$ donnent*\n",
    "> $$\\frac{dc}{dt}+kc=0$$\n",
    ">\n",
    "> *Un tableau d'avancement donne : $\\xi=(c_0-c)\\times V$* et donc :\n",
    ">$$\\frac{d\\xi}{dt}=k.(n_0-\\xi)$$\n",
    ">"
   ]
  },
  {
   "cell_type": "markdown",
   "metadata": {},
   "source": [
    ">**Question T2 :** \n",
    ">\n",
    "> Au vu des données et de l'expérience présentée, que peut-on supposer sur la température du mileu réactionnel au cours de l'expérience ? Expliquer alors pourquoi la résolution de l'équation (1) obtenue à la question précédente devient délicate.\n",
    "\n",
    "> ***Corrigé :***\n",
    ">\n",
    ">*Le valeur de $\\Delta_rH^0$ est négative, ce qui traduit le caractère exothermique de la réaction. Celle-ci s'effectuant dans une enceinte adiabatique, l'impossibilité d'un transfert thermique vers l'extérieur va se traduire par une augmentation de température du milieu réactionnel au cours du temps.*\n",
    ">\n",
    ">*La constante de vitesse $k$ dépend de la température par la loi d'Arrhénius. Comme cette température va évoluer au cours du temps, l'équation différentielle précédente est une équation différentielle d'ordre 1 à coefficient non constant (et non explicite car on ne connaît pas l'évolution de $T(t)$ et donc de $k(t)$ a priori).*\n",
    "\n",
    "\n",
    ">**Question T3 :** \n",
    ">\n",
    "> Rappeler la relation (2) reliant la constante de vitesse $k$ à la Température.\n",
    "\n",
    ">***Corrigé :***\n",
    ">\n",
    ">La loi d'Arrhénius donne :\n",
    "$$k(T)=A \\exp\\left(-\\frac{E_a}{RT}\\right)  \\mbox{ (2)}$$\n",
    "\n",
    "\n",
    ">**Question Q1 :** \n",
    ">\n",
    "> Compléter la fonction suivante qui retourne la valeur de $k$ en fonction de la température passée en argument."
   ]
  },
  {
   "cell_type": "code",
   "execution_count": null,
   "metadata": {},
   "outputs": [],
   "source": [
    "def k(T):\n",
    "    ### A COMPLETER\n",
    "    \n",
    "    "
   ]
  },
  {
   "cell_type": "code",
   "execution_count": 9,
   "metadata": {},
   "outputs": [],
   "source": [
    "## Corrigé\n",
    "\n",
    "def k(T):\n",
    "    return A*np.exp(-Ea/(R*T))\n",
    "\n",
    "# J'utilise ici la fonction exp du module 'numpy' pour simplifier quelques tracés à la fin. \n",
    "# Mais on peut aussi utiliser exp du module 'math'."
   ]
  },
  {
   "cell_type": "markdown",
   "metadata": {},
   "source": [
    "## Etude thermodynamique \n",
    "\n",
    "Les paramètres qui évoluent au cours du temps et qui décrivent le problème sont donc :\n",
    "- la température $T(t)$\n",
    "- la constante de vitesse $k(T)$\n",
    "- l'avancement de la réaction $\\xi(t)$\n",
    "\n",
    "Nous disposons par ailleurs :\n",
    "- de la relation (1) qui relie $\\xi$ et $k$\n",
    "- de la relation (2) qui relie $k$ et $T$\n",
    "\n",
    "Il manque une troisième relation entre les paramètres pour décrire complètement le système. \n",
    "\n",
    ">**Question T4 :** \n",
    ">\n",
    ">Par une étude thermodynamique, en effectuant un bilan enthalpique entre l'instant initial et l'instant $t$, montrer que la relation (3) entre $T(t)$ et $\\xi(t)$ s'écrit :\n",
    ">$$T(t)=T_0 - \\frac{\\Delta_r H^0}{m c_e} \\xi(t) \\mbox{ (3)}$$\n",
    ">*On soignera particulièrement la rédaction de cette démonstration.*\n",
    "\n",
    ">**Question Q2 :**\n",
    ">\n",
    ">Compléter la fonction ci-dessous qui retourne la température à partir de la valeur de l'avancement passé en argument."
   ]
  },
  {
   "cell_type": "code",
   "execution_count": null,
   "metadata": {},
   "outputs": [],
   "source": [
    "def T(xi):\n",
    "    #### A COMPLETER"
   ]
  },
  {
   "cell_type": "code",
   "execution_count": 10,
   "metadata": {},
   "outputs": [],
   "source": [
    "#Corrigé \n",
    "\n",
    "def T(xi):\n",
    "    return T0-drH0/(m*ce)*xi"
   ]
  },
  {
   "cell_type": "markdown",
   "metadata": {},
   "source": [
    "## Dynamique du système\n",
    "\n",
    "Nous disposons désormais de toutes les relations pour étudier la dynamique du système. De proche en proche, nous allons calculer la température à tout instant, en suivant le schéma suivant :\n",
    "\n",
    "<img src=\"https://simon-laurette.github.io/CN4_Thermochimie/syno.png\" width=800></img>\n",
    "\n",
    ">**Question Q3 :** \n",
    ">\n",
    "> Compléter la fonction `f(T,xi)` suivante définie par :\n",
    "> $$ \\frac{d\\xi}{dt}=f(T,\\xi)$$\n",
    "\n"
   ]
  },
  {
   "cell_type": "code",
   "execution_count": null,
   "metadata": {},
   "outputs": [],
   "source": [
    "def f(T,xi):\n",
    "    ''' telle que dxi/dt=f(T,xi)'''\n",
    "    ### A COMPLETER\n"
   ]
  },
  {
   "cell_type": "code",
   "execution_count": 11,
   "metadata": {},
   "outputs": [],
   "source": [
    "# Corrigé\n",
    "\n",
    "def f(T,xi):\n",
    "    ''' telle que dxi/dt=f(T,xi)'''\n",
    "    return k(T)*(c0*V-xi)\n"
   ]
  },
  {
   "cell_type": "markdown",
   "metadata": {},
   "source": [
    ">**Question Q4 :** \n",
    ">\n",
    "> Mettre en oeuvre la méthode décrite sur le schéma pour déterminer l'évolution de la température à tout instant. On complètera le code proposé ci-dessous. En déduire le tracé de la température au cours du temps."
   ]
  },
  {
   "cell_type": "code",
   "execution_count": null,
   "metadata": {},
   "outputs": [],
   "source": [
    "# On stocke les valeurs de t, T et xi à chaque instant dans 3 listes : l_t, l_T et l_xi\n",
    "# Ces listes sont initialisées ci-dessous.\n",
    "\n",
    "l_t=[0] # liste des temps en s\n",
    "l_T=[T0] # liste des T en K\n",
    "l_xi=[0] # liste des xi en mol\n",
    "\n",
    "# Paramètres de la simulation\n",
    "\n",
    "dt=1 # pas de calcul temporel\n",
    "Tf=10000 # instant final de calcul\n",
    "\n",
    "for i in range(int(Tf/dt)):\n",
    "    ### A COMPLETER\n",
    "    ###\n",
    "    ###\n",
    "    ###\n",
    "  \n",
    "\n",
    "\n",
    "\n",
    "\n",
    "\n",
    "plt.figure()\n",
    "plt.plot(np.array(l_t)/60,l_T)\n",
    "plt.xlabel(\"t en minutes\")\n",
    "plt.ylabel(\"T en °C\")\n",
    "plt.legend()\n",
    "plt.grid()\n",
    "plt.show()    \n",
    "    "
   ]
  },
  {
   "cell_type": "code",
   "execution_count": 12,
   "metadata": {},
   "outputs": [
    {
     "data": {
      "image/png": "[encoded data removed]",
      "text/plain": [
       "<Figure size 432x288 with 1 Axes>"
      ]
     },
     "metadata": {
      "needs_background": "light"
     },
     "output_type": "display_data"
    }
   ],
   "source": [
    "# Corrigé\n",
    "\n",
    "# On stocke les valeurs de t, T et xi à chaque instant dans 3 listes : l_t, l_T et l_xi\n",
    "# Ces listes sont initialisées ci-dessous.\n",
    "\n",
    "l_t=[0]\n",
    "l_T=[T0]\n",
    "l_xi=[0]\n",
    "\n",
    "# Paramètres de la simulation\n",
    "\n",
    "dt=1 # pas de calcul temporel\n",
    "Tf=10000 # instant final de calcul\n",
    "\n",
    "for i in range(int(Tf/dt)):\n",
    "    new_xi=l_xi[-1]+dt*f(l_T[-1],l_xi[-1])\n",
    "    l_xi.append(new_xi)\n",
    "    l_T.append(T(new_xi))\n",
    "    l_t.append(l_t[-1]+dt)\n",
    "  \n",
    "\n",
    "## Pour info, ce que l'on aurait obtenu si la constante de vitesse était indépendante de T\n",
    "k1=k(T0)\n",
    "xi_th=c0*V*(1-np.exp(-k1*np.array(l_t)))\n",
    "T_th=T(xi_th)\n",
    "\n",
    "## On compare les deux\n",
    "plt.figure()\n",
    "plt.plot(np.array(l_t)/60,np.array(l_T), label=\"simu\")\n",
    "plt.plot(np.array(l_t)/60, T_th, label=\"k cst\")\n",
    "plt.xlabel(\"t en minutes\")\n",
    "plt.ylabel(\"T en °C\")\n",
    "plt.legend()\n",
    "plt.grid()\n",
    "plt.show()\n",
    "    \n",
    "    "
   ]
  }
 ],
 "metadata": {
  "kernelspec": {
   "display_name": "Python 3",
   "language": "python",
   "name": "python3"
  },
  "language_info": {
   "codemirror_mode": {
    "name": "ipython",
    "version": 3
   },
   "file_extension": ".py",
   "mimetype": "text/x-python",
   "name": "python",
   "nbconvert_exporter": "python",
   "pygments_lexer": "ipython3",
   "version": "3.9.1"
  },
  "toc": {
   "base_numbering": 1,
   "nav_menu": {},
   "number_sections": false,
   "sideBar": true,
   "skip_h1_title": false,
   "title_cell": "Table of Contents",
   "title_sidebar": "Contents",
   "toc_cell": false,
   "toc_position": {},
   "toc_section_display": true,
   "toc_window_display": false
  }
 },
 "nbformat": 4,
 "nbformat_minor": 2
}
