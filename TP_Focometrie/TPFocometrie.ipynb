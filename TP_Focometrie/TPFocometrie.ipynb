{
 "cells": [
  {
   "cell_type": "markdown",
   "id": "fbe2163b",
   "metadata": {},
   "source": [
    "# Focométrie et Incertitudes\n",
    "\n",
    "\n",
    "## Tolérance du constructeur\n",
    "\n",
    "### Préparation 8bis\n"
   ]
  },
  {
   "cell_type": "code",
   "execution_count": null,
   "id": "a2dd9833",
   "metadata": {
    "scrolled": false
   },
   "outputs": [],
   "source": [
    "V=10\n",
    "f=...\n",
    "\n",
    "Vmin=...\n",
    "Vmax=...\n",
    "\n",
    "# Méthode de Monte-Carlo\n",
    "\n",
    "import numpy as np\n",
    "import numpy.random as rd\n",
    "import matplotlib.pyplot as plt\n",
    "\n",
    "V_sim=rd.uniform(Vmin,Vmax,100000) #bien comprendre cette ligne. Plus tard, il faudra savoir la faire seul.\n",
    "f_sim=...\n",
    "\n",
    "u=np.std(f_sim, ddof=1) #idem\n",
    "\n",
    "\n",
    "# Tracé des Histogrammes\n",
    "\n",
    "plt.figure()\n",
    "plt.subplot(211)\n",
    "plt.hist(V_sim)\n",
    "plt.title(\"Histogramme des Vergences\")\n",
    "plt.xlabel(\"V en dioptries\")\n",
    "plt.grid()\n",
    "plt.subplot(212)\n",
    "plt.hist(f_sim)\n",
    "plt.title(\"Histogramme des distances focales\")\n",
    "plt.xlabel(\"f en m\")\n",
    "plt.grid()\n",
    "plt.show()\n",
    "\n",
    "print(\"L'incertitude-type sur f est u = \"+str(u)[0:6]+\"m\")\n"
   ]
  },
  {
   "cell_type": "markdown",
   "id": "3c8b1268",
   "metadata": {},
   "source": [
    "## Méthode d'autocollimation\n",
    "\n",
    "\n",
    "### Question 1"
   ]
  },
  {
   "cell_type": "code",
   "execution_count": 20,
   "id": "a70dba21",
   "metadata": {},
   "outputs": [
    {
     "name": "stdout",
     "output_type": "stream",
     "text": [
      "La distance focale est f' =  Ellipsis cm\n",
      "L'incertitude type associée u1 = Ellipsis cm\n"
     ]
    }
   ],
   "source": [
    "x_objet=...\n",
    "u_xobjet=...\n",
    "\n",
    "x_lentille=...\n",
    "u_xlentille=...\n",
    "\n",
    "f1=...\n",
    "u1=...\n",
    "\n",
    "print(\"La distance focale est f\\' = \",f1,\"cm\") ## ajuster pour avoir la bonne unité et les bons chiffres significatifs\n",
    "print(\"L\\'incertitude type associée u1 =\", u1,\"cm\") ## ajuster"
   ]
  },
  {
   "cell_type": "markdown",
   "id": "50b0b020",
   "metadata": {},
   "source": [
    "## Méthode par relation de conjugaison\n",
    "\n",
    "### Question 2"
   ]
  },
  {
   "cell_type": "code",
   "execution_count": 2,
   "id": "64773a1a",
   "metadata": {},
   "outputs": [
    {
     "name": "stdout",
     "output_type": "stream",
     "text": [
      "La distance focale est f' =  Ellipsis cm\n",
      "L'incertitude type associée est u2 = Ellipsis cm\n"
     ]
    }
   ],
   "source": [
    "import numpy as np\n",
    "\n",
    "xA=...\n",
    "xLent=np.array([...])\n",
    "xAp=np.array([...])\n",
    "\n",
    "\n",
    "_1surOAp=...\n",
    "_1surOA=...\n",
    "\n",
    "valeurs_f=...\n",
    "\n",
    "f2=...\n",
    "u2=...\n",
    "\n",
    "print(\"La distance focale est f\\' = \",f2,\"cm\") ## ajuster pour avoir la bonne unité et les bons chiffres significatifs\n",
    "print(\"L\\'incertitude type associée est u2 =\", u2,\"cm\") ## ajuster"
   ]
  },
  {
   "cell_type": "markdown",
   "id": "e60e3392",
   "metadata": {},
   "source": [
    "### Question 3"
   ]
  },
  {
   "cell_type": "code",
   "execution_count": null,
   "id": "5ece8dd4",
   "metadata": {},
   "outputs": [],
   "source": [
    "## Ecart Normalisé :\n",
    "\n",
    "Z=...\n",
    "\n"
   ]
  },
  {
   "cell_type": "markdown",
   "id": "d5b4b473",
   "metadata": {},
   "source": [
    "## Méthode de Bessel\n",
    "\n",
    "### Question 4"
   ]
  },
  {
   "cell_type": "code",
   "execution_count": null,
   "id": "468839c1",
   "metadata": {},
   "outputs": [],
   "source": [
    "import numpy.random as rd\n",
    "import matplotlib.pyplot as plt\n",
    "\n",
    "#Mesures\n",
    "xobj_min=...\n",
    "xobj_max=...\n",
    "\n",
    "xecr_min=...\n",
    "xecr_max=...\n",
    "\n",
    "x1_min=...\n",
    "x1_max=...\n",
    "\n",
    "x2_min=...\n",
    "x2_max=...\n",
    "\n",
    "# Tirages de Monte-Carlo :\n",
    "\n",
    "xobj_sim=rd.uniform(...,...,10000)\n",
    "xecr_sim=...\n",
    "x1_sim=...\n",
    "x2_sim=...\n",
    "\n",
    "f_sim=... \n",
    "\n",
    "plt.close()\n",
    "plt.hist(f_sim)\n",
    "plt.show()\n",
    "\n",
    "f3=...\n",
    "u3=...\n",
    "\n",
    "\n",
    "print(\"La distance focale est f\\' = \",f3,\"cm\") ## ajuster pour avoir la bonne unité et les bons chiffres significatifs\n",
    "print(\"L\\'incertitude type associée est u3 =\", u3,\"cm\") ## ajuster\n",
    "   \n",
    "# Ecarts Normalisés :\n",
    "\n",
    "Z_12=...\n",
    "Z_13=...\n",
    "Z_23=...\n",
    "\n"
   ]
  },
  {
   "cell_type": "markdown",
   "id": "f9089fc9",
   "metadata": {},
   "source": [
    "## Test de la relation de Descartes\n",
    "\n",
    "### Questions 8 et 9"
   ]
  },
  {
   "cell_type": "code",
   "execution_count": null,
   "id": "e3873130",
   "metadata": {},
   "outputs": [],
   "source": []
  }
 ],
 "metadata": {
  "kernelspec": {
   "display_name": "Python 3",
   "language": "python",
   "name": "python3"
  },
  "language_info": {
   "codemirror_mode": {
    "name": "ipython",
    "version": 3
   },
   "file_extension": ".py",
   "mimetype": "text/x-python",
   "name": "python",
   "nbconvert_exporter": "python",
   "pygments_lexer": "ipython3",
   "version": "3.9.1"
  },
  "toc": {
   "base_numbering": 1,
   "nav_menu": {},
   "number_sections": false,
   "sideBar": true,
   "skip_h1_title": false,
   "title_cell": "Table of Contents",
   "title_sidebar": "Contents",
   "toc_cell": false,
   "toc_position": {},
   "toc_section_display": true,
   "toc_window_display": true
  }
 },
 "nbformat": 4,
 "nbformat_minor": 5
}
