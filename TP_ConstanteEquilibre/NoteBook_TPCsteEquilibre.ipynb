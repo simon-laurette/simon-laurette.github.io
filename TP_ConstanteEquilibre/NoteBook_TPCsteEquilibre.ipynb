{
 "cells": [
  {
   "cell_type": "markdown",
   "id": "3f0771f3",
   "metadata": {},
   "source": [
    "# TP Constante d'équilibre\n",
    "\n",
    "\n"
   ]
  },
  {
   "cell_type": "code",
   "execution_count": null,
   "id": "a6b01ac1",
   "metadata": {},
   "outputs": [],
   "source": [
    "##Algorithme de régression polynomiale\n",
    "\n",
    "import numpy as np\n",
    "import matplotlib.pyplot as plt\n",
    "import random as rd\n",
    "\n",
    "...\n",
    "\n",
    "x = np.array([...]) # rentrer ici la liste des mesures de x\n",
    "y = np.array([...]) # rentrer ici la liste des mesures de y associées\n",
    "\n",
    "\n",
    "p=np.polyfit(x, y, ...)\n",
    "#... est un entier correspondant à l’ordre du polynôme désiré\n",
    "#p est la liste des coefficients du polynôme, par ordre de degré croissant  \n",
    "\n",
    "\n",
    "## ne pas oublier de finir par un tracé superposant les points de mesure et la courbe théorique estimée pour valider l'estimation. \n",
    "\n",
    "plt.figure()\n",
    "plt.plot(x,y,'+',label='Points Expérimentaux')\n",
    "plt.plot(x,...,label='Régression Linéaire')\n",
    "plt.legend()\n",
    "plt.grid()\n",
    "plt.show()\n",
    "\n",
    "print(\"pKa =\",...)"
   ]
  }
 ],
 "metadata": {
  "kernelspec": {
   "display_name": "Python 3",
   "language": "python",
   "name": "python3"
  },
  "language_info": {
   "codemirror_mode": {
    "name": "ipython",
    "version": 3
   },
   "file_extension": ".py",
   "mimetype": "text/x-python",
   "name": "python",
   "nbconvert_exporter": "python",
   "pygments_lexer": "ipython3",
   "version": "3.9.1"
  },
  "toc": {
   "base_numbering": 1,
   "nav_menu": {},
   "number_sections": false,
   "sideBar": true,
   "skip_h1_title": false,
   "title_cell": "Table of Contents",
   "title_sidebar": "Contents",
   "toc_cell": false,
   "toc_position": {},
   "toc_section_display": true,
   "toc_window_display": true
  }
 },
 "nbformat": 4,
 "nbformat_minor": 5
}
