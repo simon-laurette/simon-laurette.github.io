{
 "cells": [
  {
   "cell_type": "markdown",
   "id": "3279f4bc",
   "metadata": {},
   "source": [
    "# Bienvenue dans ce TP\n",
    "\n",
    "Ici, c'est l'énoncé, donc vous ne modifiez pas."
   ]
  },
  {
   "cell_type": "markdown",
   "id": "238c769d",
   "metadata": {},
   "source": [
    "## Titre 1 : c'est cool\n",
    "\n",
    "on continue ?"
   ]
  },
  {
   "cell_type": "markdown",
   "id": "22bd85c3",
   "metadata": {
    "solution2": "hidden",
    "solution2_first": true
   },
   "source": [
    "**Exercice  1**\n",
    "<div style=\"background:orange\">\n",
    "Tracer un graphique représentant $y=f(x)$ avec les barres d'incertitude.\n",
    "</div>\n"
   ]
  },
  {
   "cell_type": "code",
   "execution_count": 19,
   "id": "bd875f55",
   "metadata": {
    "solution2": "hidden"
   },
   "outputs": [],
   "source": [
    "# tente ici de répondre"
   ]
  },
  {
   "cell_type": "code",
   "execution_count": 18,
   "id": "f0c03ada",
   "metadata": {},
   "outputs": [],
   "source": [
    "# la réponse est :"
   ]
  },
  {
   "cell_type": "code",
   "execution_count": null,
   "id": "a1fda3fd",
   "metadata": {},
   "outputs": [],
   "source": []
  },
  {
   "cell_type": "code",
   "execution_count": null,
   "id": "441ec493",
   "metadata": {},
   "outputs": [],
   "source": []
  },
  {
   "cell_type": "code",
   "execution_count": null,
   "id": "976d757b",
   "metadata": {},
   "outputs": [],
   "source": []
  }
 ],
 "metadata": {
  "celltoolbar": "Aucun(e)",
  "kernelspec": {
   "display_name": "Python 3",
   "language": "python",
   "name": "python3"
  },
  "language_info": {
   "codemirror_mode": {
    "name": "ipython",
    "version": 3
   },
   "file_extension": ".py",
   "mimetype": "text/x-python",
   "name": "python",
   "nbconvert_exporter": "python",
   "pygments_lexer": "ipython3",
   "version": "3.9.1"
  },
  "toc": {
   "base_numbering": 1,
   "nav_menu": {
    "height": "85px",
    "width": "160px"
   },
   "number_sections": true,
   "sideBar": true,
   "skip_h1_title": false,
   "title_cell": "Table of Contents",
   "title_sidebar": "Contents",
   "toc_cell": false,
   "toc_position": {
    "height": "calc(100% - 180px)",
    "left": "10px",
    "top": "150px",
    "width": "239.6px"
   },
   "toc_section_display": true,
   "toc_window_display": true
  }
 },
 "nbformat": 4,
 "nbformat_minor": 5
}
